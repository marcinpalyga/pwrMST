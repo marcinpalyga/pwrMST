{
 "cells": [
  {
   "cell_type": "markdown",
   "metadata": {},
   "source": [
    "# Lista 3"
   ]
  },
  {
   "cell_type": "markdown",
   "metadata": {},
   "source": [
    "### Importowane biblioteki"
   ]
  },
  {
   "cell_type": "code",
   "execution_count": 3,
   "metadata": {},
   "outputs": [],
   "source": [
    "import math"
   ]
  },
  {
   "cell_type": "markdown",
   "metadata": {},
   "source": [
    "### Zadanie 3"
   ]
  },
  {
   "cell_type": "code",
   "execution_count": 1,
   "metadata": {},
   "outputs": [
    {
     "name": "stdout",
     "output_type": "stream",
     "text": [
      "A CODE OF ETHICAL BEHAVIOR FOR PATIENTS:\n",
      "1. DO NOT EXPECT YOUR DOCTOR TO SHARE YOUR DISCOMFORT. Involvement\n",
      "with the patient’s suffering might cause him to lose valuable\n",
      "scientific objectivity.\n",
      "2. BE CHEERFUL AT ALL TIMES. Your doctor leads a busy and trying\n",
      "life and requires all the gentleness and reassurance he can get\n",
      ".\n",
      "3. TRY TO SUFFER FROM THE DISEASE FOR WHICH YOU ARE BEING TREATED.\n",
      "Remember that your doctor has a professional reputation to\n",
      "uphold.\n",
      "N PBQR BS RGUVPNY ORUNIVBE SBE CNGVRAGF:\n",
      "1. QB ABG RKCRPG LBHE QBPGBE GB FUNER LBHE QVFPBZSBEG. Vaibyirzrag\n",
      "jvgu gur cngvrag’f fhssrevat zvtug pnhfr uvz gb ybfr inyhnoyr\n",
      "fpvragvsvp bowrpgvivgl.\n",
      "2. OR PURRESHY NG NYY GVZRF. Lbhe qbpgbe yrnqf n ohfl naq gelvat\n",
      "yvsr naq erdhverf nyy gur tragyrarff naq ernffhenapr ur pna trg\n",
      ".\n",
      "3. GEL GB FHSSRE SEBZ GUR QVFRNFR SBE JUVPU LBH NER ORVAT GERNGRQ.\n",
      "Erzrzore gung lbhe qbpgbe unf n cebsrffvbany erchgngvba gb\n",
      "hcubyq.\n"
     ]
    }
   ],
   "source": [
    "def rot13(text):\n",
    "    result = \"\"                #zmienna w której przechowujemy przetworzony tekst\n",
    "\n",
    "    for i in text:\n",
    "        c = ord(i)\n",
    "\n",
    "        if c >= ord('a') and c <= ord('z'):      #pętla dla małych liter która w zależności od miejsca litery w alfabecie zmienia ją o +13 lub -13\n",
    "            if c > ord('m'):\n",
    "                c -= 13\n",
    "            else:\n",
    "                c += 13\n",
    "        elif c >= ord('A') and c <= ord('Z'):   #taka sama pętla dla dużych liter\n",
    "            if c > ord('M'):\n",
    "                c -= 13\n",
    "            else:\n",
    "                c += 13\n",
    "\n",
    "        result += chr(c)\n",
    "\n",
    "    return result\n",
    "\n",
    "print(rot13(\"\"\"N PBQR BS RGUVPNY ORUNIVBE SBE CNGVRAGF:\n",
    "1. QB ABG RKCRPG LBHE QBPGBE GB FUNER LBHE QVFPBZSBEG. Vaibyirzrag\n",
    "jvgu gur cngvrag’f fhssrevat zvtug pnhfr uvz gb ybfr inyhnoyr\n",
    "fpvragvsvp bowrpgvivgl.\n",
    "2. OR PURRESHY NG NYY GVZRF. Lbhe qbpgbe yrnqf n ohfl naq gelvat\n",
    "yvsr naq erdhverf nyy gur tragyrarff naq ernffhenapr ur pna trg\n",
    ".\n",
    "3. GEL GB FHSSRE SEBZ GUR QVFRNFR SBE JUVPU LBH NER ORVAT GERNGRQ.\n",
    "Erzrzore gung lbhe qbpgbe unf n cebsrffvbany erchgngvba gb\n",
    "hcubyq.\"\"\"))\n",
    "print(rot13(rot13(\"\"\"N PBQR BS RGUVPNY ORUNIVBE SBE CNGVRAGF:\n",
    "1. QB ABG RKCRPG LBHE QBPGBE GB FUNER LBHE QVFPBZSBEG. Vaibyirzrag\n",
    "jvgu gur cngvrag’f fhssrevat zvtug pnhfr uvz gb ybfr inyhnoyr\n",
    "fpvragvsvp bowrpgvivgl.\n",
    "2. OR PURRESHY NG NYY GVZRF. Lbhe qbpgbe yrnqf n ohfl naq gelvat\n",
    "yvsr naq erdhverf nyy gur tragyrarff naq ernffhenapr ur pna trg\n",
    ".\n",
    "3. GEL GB FHSSRE SEBZ GUR QVFRNFR SBE JUVPU LBH NER ORVAT GERNGRQ.\n",
    "Erzrzore gung lbhe qbpgbe unf n cebsrffvbany erchgngvba gb\n",
    "hcubyq.\"\"\")))\n"
   ]
  },
  {
   "cell_type": "markdown",
   "metadata": {},
   "source": [
    "### Zadanie 5"
   ]
  },
  {
   "cell_type": "code",
   "execution_count": 2,
   "metadata": {},
   "outputs": [
    {
     "name": "stdout",
     "output_type": "stream",
     "text": [
      "2\n"
     ]
    }
   ],
   "source": [
    "def nwd_lista(l):\n",
    "    def nwd(a, b):                 #funkcja która oblicza NWD dwóch liczb\n",
    "        while b:\n",
    "            a, b = b, a%b\n",
    "        return a\n",
    "    n =1\n",
    "    f = l[0]\n",
    "    while n != len(l):           #pętla która sprawdza NWD kolejnych par w liście\n",
    "        f = nwd(f,l[n])\n",
    "        if  f == 1:\n",
    "            return 1\n",
    "        else:\n",
    "            n = n + 1          \n",
    "    return f\n",
    "\n",
    "l = [24,6,4, 12]\n",
    "print(nwd_lista(l))"
   ]
  },
  {
   "cell_type": "markdown",
   "metadata": {},
   "source": [
    "### Zadanie 6"
   ]
  },
  {
   "cell_type": "code",
   "execution_count": 4,
   "metadata": {},
   "outputs": [
    {
     "name": "stdout",
     "output_type": "stream",
     "text": [
      "[[1], [1, 1], [1, 2, 1], [1, 3, 3, 1], [1, 4, 6, 4, 1], [1, 5, 10, 10, 5, 1], [1, 6, 15, 20, 15, 6, 1], [1, 7, 21, 35, 35, 21, 7, 1], [1, 8, 28, 56, 70, 56, 28, 8, 1], [1, 9, 36, 84, 126, 126, 84, 36, 9, 1]]\n"
     ]
    }
   ],
   "source": [
    "def newton(n, k):\n",
    "    return int((math.factorial(n))/(math.factorial(k)*math.factorial(n-k)))   #funckja licząca dwumian Newtona\n",
    "\n",
    "\n",
    "def pascal(row):\n",
    "    result = []\n",
    "    for i in range(row):            #w zależności od od rzędu trojkąta Pascala funkcja liczy kolejne dwumiany Newtona w rzędzie i zapisuje w zmiennej\n",
    "        number = []\n",
    "        for j in range(i + 1):\n",
    "            number.append(newton(i, j))\n",
    "        result.append(number)\n",
    "    return result\n",
    "\n",
    "print(pascal(10))"
   ]
  },
  {
   "cell_type": "markdown",
   "metadata": {},
   "source": [
    "### Zadanie 7"
   ]
  },
  {
   "cell_type": "code",
   "execution_count": 5,
   "metadata": {},
   "outputs": [
    {
     "name": "stdout",
     "output_type": "stream",
     "text": [
      "Delta ujemna, funkcja nie ma pierwiastków rzeczywistych\n"
     ]
    }
   ],
   "source": [
    "a = float(input('Podaj współczynnik a funkcji kwadratowej: '))\n",
    "b = float(input('Podaj współczynnik b funkcji kwadratowej: '))\n",
    "c = float(input('Podaj współczynnik c funkcji kwadratowej: '))\n",
    "\n",
    "\n",
    "def kwadratowa(a, b, c):\n",
    "    delta = float(b**2 - 4*a*c)                          #zmienna która zapisuje deltę\n",
    "    if a == 0:\n",
    "        return 'To jest funkcja liniowa'                #przypadek kiedy funkcja nie jest kwadratowa\n",
    "    elif delta < 0:\n",
    "        return 'Delta ujemna, funkcja nie ma pierwiastków rzeczywistych'    #przypadek kiedy funkcja nie ma pierwiastków\n",
    "    elif delta > 0:\n",
    "        return float((-b + math.sqrt(delta))/(2*a)), float((-b - math.sqrt(delta))/(2*a))  #funkcja zwraca wartości pierwiastków\n",
    "    elif delta == 0:\n",
    "        return 'Funkcja ma pierwiastek podwójny równy', float((-b - math.sqrt(delta))/(2*a))\n",
    "    \n",
    "print(kwadratowa(a, b, c))"
   ]
  }
 ],
 "metadata": {
  "kernelspec": {
   "display_name": "Python 3",
   "language": "python",
   "name": "python3"
  },
  "language_info": {
   "codemirror_mode": {
    "name": "ipython",
    "version": 3
   },
   "file_extension": ".py",
   "mimetype": "text/x-python",
   "name": "python",
   "nbconvert_exporter": "python",
   "pygments_lexer": "ipython3",
   "version": "3.11.2"
  }
 },
 "nbformat": 4,
 "nbformat_minor": 2
}
