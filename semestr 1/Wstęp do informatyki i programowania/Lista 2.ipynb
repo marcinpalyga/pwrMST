{
 "cells": [
  {
   "cell_type": "markdown",
   "metadata": {},
   "source": [
    "# Lista 2"
   ]
  },
  {
   "cell_type": "markdown",
   "metadata": {},
   "source": [
    "### Zadanie 2"
   ]
  },
  {
   "cell_type": "code",
   "execution_count": 2,
   "metadata": {},
   "outputs": [
    {
     "data": {
      "text/plain": [
       "[2, 4]"
      ]
     },
     "execution_count": 2,
     "metadata": {},
     "output_type": "execute_result"
    }
   ],
   "source": [
    "def character_finder(word, letter): #funkcja wskazuje indeks litery w danym słowie\n",
    "    results = []\n",
    "    for i in range(len(word)):      #funkcja sprawdza indeks do ostatniej litery słowa\n",
    "        if word[i] == letter:       #jeśli index podana litera znajduje się w danym słowie funkcja zapisuje jej indeks\n",
    "            results.append(i)\n",
    "    return results                  #funkcja zwraca zapisane indeksy\n",
    "\n",
    "character_finder('abdcd','d')"
   ]
  },
  {
   "cell_type": "markdown",
   "metadata": {},
   "source": [
    "### Zadanie 3"
   ]
  },
  {
   "cell_type": "code",
   "execution_count": 3,
   "metadata": {},
   "outputs": [
    {
     "data": {
      "text/plain": [
       "[4, 5, 6]"
      ]
     },
     "execution_count": 3,
     "metadata": {},
     "output_type": "execute_result"
    }
   ],
   "source": [
    "def character_finder(word, letter, start):      #funkcja sprawdza indeks podanej litery w danym słowie i rozpoczyna działanie od podanego indeksu\n",
    "    results = []\n",
    "    for i in range(start,len(word)):            #funkcja sprawdza każdą literę po kolei zaczynając od podanego indeksu i zapisuje ten indeks\n",
    "        if word[i] == letter:\n",
    "            results.append(i)\n",
    "    return results                              #funkcja zwraca zapisane indeksy\n",
    "\n",
    "character_finder('aaadaaa','a', 4)"
   ]
  },
  {
   "cell_type": "markdown",
   "metadata": {},
   "source": [
    "### Zadanie 4"
   ]
  },
  {
   "cell_type": "code",
   "execution_count": 6,
   "metadata": {},
   "outputs": [
    {
     "data": {
      "text/plain": [
       "5"
      ]
     },
     "execution_count": 6,
     "metadata": {},
     "output_type": "execute_result"
    }
   ],
   "source": [
    "def counter(word, letter):           #funkcja sprawdzająca ilość występowania litery w słowie\n",
    "    results = 0\n",
    "    for i in range(len(word)):          #funkcja sprawdza ilość wystąpień od pierwszej do ostaniej litery słowa\n",
    "        if word[i] == letter:\n",
    "            results = results + 1       #jeśli litera występuje w słowie funkcja zapisuje ile razy i zwraca tę wartość\n",
    "    return results\n",
    "\n",
    "counter('abbabbb', 'b')"
   ]
  },
  {
   "cell_type": "markdown",
   "metadata": {},
   "source": [
    "### Zadanie 6"
   ]
  },
  {
   "cell_type": "code",
   "execution_count": 7,
   "metadata": {},
   "outputs": [
    {
     "data": {
      "text/plain": [
       "'Słowa mają różną długość'"
      ]
     },
     "execution_count": 7,
     "metadata": {},
     "output_type": "execute_result"
    }
   ],
   "source": [
    "def string_comparator(word1, word2):                    #funkcja porównuje dwa podane słowa\n",
    "    if len(word1) == len(word2) and word1 != word2:     #jeśli długość słów jest taka sama ale słowa się różnią funkcja zwraca daną wiadomość\n",
    "        return 'Słowa się nie zgadzają'\n",
    "    elif len(word1) == len(word2) and word1 == word2:   #jeśli długość słów jest taka sama i słowa się zgadzają funkcja zwraca daną wiadomość\n",
    "        return 'Słowa się zgadzają'\n",
    "    else:                                               #jeśli słowa mają różną długość funkcja zwraca daną wiadomość\n",
    "        return 'Słowa mają różną długość'\n",
    "\n",
    "string_comparator('abcd', 'abdde')"
   ]
  },
  {
   "cell_type": "markdown",
   "metadata": {},
   "source": [
    "### Zadanie 7"
   ]
  },
  {
   "cell_type": "code",
   "execution_count": 13,
   "metadata": {},
   "outputs": [
    {
     "data": {
      "text/plain": [
       "4181"
      ]
     },
     "execution_count": 13,
     "metadata": {},
     "output_type": "execute_result"
    }
   ],
   "source": [
    "def fib(n):             #funkcja zwraca wartość ciągu Fibonacciego w zależności od podanego n\n",
    "    if n == 0:          #dla n = 0 funkcja zwraca 0\n",
    "        return 0\n",
    "    elif n == 1:        #dla n = 1 funkcja zwraca 1\n",
    "        return 1\n",
    "    else:               #w innych przypadkach(dla n >=2) funkcja zwraca wartość obliczoną według danego wzoru\n",
    "        return fib(n-2) + fib(n-1)\n",
    "\n",
    "fib(19)"
   ]
  }
 ],
 "metadata": {
  "kernelspec": {
   "display_name": "Python 3",
   "language": "python",
   "name": "python3"
  },
  "language_info": {
   "codemirror_mode": {
    "name": "ipython",
    "version": 3
   },
   "file_extension": ".py",
   "mimetype": "text/x-python",
   "name": "python",
   "nbconvert_exporter": "python",
   "pygments_lexer": "ipython3",
   "version": "3.11.2"
  }
 },
 "nbformat": 4,
 "nbformat_minor": 2
}
