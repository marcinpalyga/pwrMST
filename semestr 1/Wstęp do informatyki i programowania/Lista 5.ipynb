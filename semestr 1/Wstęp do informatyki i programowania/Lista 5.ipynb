{
 "cells": [
  {
   "cell_type": "markdown",
   "metadata": {},
   "source": [
    "# Lista 5"
   ]
  },
  {
   "cell_type": "markdown",
   "metadata": {},
   "source": [
    "### Zaimportowane biblioteki"
   ]
  },
  {
   "cell_type": "code",
   "execution_count": 8,
   "metadata": {},
   "outputs": [],
   "source": [
    "import time"
   ]
  },
  {
   "cell_type": "markdown",
   "metadata": {},
   "source": [
    "### Zadanie 1"
   ]
  },
  {
   "cell_type": "code",
   "execution_count": 1,
   "metadata": {},
   "outputs": [
    {
     "name": "stdout",
     "output_type": "stream",
     "text": [
      "#00FF05\n"
     ]
    }
   ],
   "source": [
    "def html(r, g, b):\n",
    "    def dectohex(n): #funkcja zamieniająca jedną część trypletu na system 16\n",
    "        d = {10:'A', 11:'B', 12:'C', 13:'D', 14:'E', 15:'F'} #słownik przyporządkowujący liczby większe od 9 odpowiednim literom\n",
    "        x = n//16 #zmienna która liczy ile wielokrotności 16 zmieści się w podanym n\n",
    "        y = n - x*16 #zmienna która liczy resztę z dzielenia przez 16\n",
    "        if x >= 10 and x <= 15: #jeśli x jest w danym przedziale liczba zostaje przyporządkowana literze\n",
    "            x = d[x]\n",
    "        if y >= 10 and y <= 15: #jeśli y jest w danym przedziale liczba zostaje przyporządkowana literze\n",
    "            y = d[y]\n",
    "        h = str(x) + str(y) #składamy stringi w jeden\n",
    "        return h\n",
    "    html = f'#{dectohex(r)}{dectohex(g)}{dectohex(b)}' #zmienna zamieniająca tryplet rgb na html\n",
    "    return html\n",
    "print(html(0,255,5))"
   ]
  },
  {
   "cell_type": "markdown",
   "metadata": {},
   "source": [
    "### Zadanie 2"
   ]
  },
  {
   "cell_type": "code",
   "execution_count": 2,
   "metadata": {},
   "outputs": [
    {
     "name": "stdout",
     "output_type": "stream",
     "text": [
      "255,0,5\n"
     ]
    }
   ],
   "source": [
    "def rgb(html):\n",
    "    def hextodec(n): #funkcja zamieniająca system 16 na jedną część trypletu rgb\n",
    "        d = {'0':0, '1':1, '2':2, '3':3, '4':4, '5':5, '6':6, '7':7, '8':8, '9':9, 'A':10, 'B':11, 'C':12, 'D':13, 'E':14, 'F':15}\n",
    "        result = ''\n",
    "        x = n[0] #bierzemy literę lub cyfrę leżącą na 1. miejscu n\n",
    "        y = n[1] #bierzemy literę lub cyfrę leżącą na 2. miejscu n\n",
    "        result = d[x]*16 + d[y] #zamiana na system dziesiętny\n",
    "        return result\n",
    "    red = html[1:3] #ucinamy poszeczególne fragmenty html na tryplet rgb\n",
    "    green = html[3:5]\n",
    "    blue = html[5:7]\n",
    "    rgb = f'{hextodec(red)},{hextodec(green)},{hextodec(blue)}' \n",
    "    return rgb\n",
    "print(rgb('#FF0005'))"
   ]
  },
  {
   "cell_type": "markdown",
   "metadata": {},
   "source": [
    "### Zadanie 3"
   ]
  },
  {
   "cell_type": "code",
   "execution_count": 4,
   "metadata": {},
   "outputs": [
    {
     "name": "stdout",
     "output_type": "stream",
     "text": [
      "[0, 1, 1, 2, 3, 5, 8, 13, 21, 34, 55, 89, 144, 233, 377, 610, 987, 1597, 2584, 4181, 6765, 10946, 17711, 28657, 46368, 75025, 121393, 196418, 317811, 514229, 832040]\n",
      "0.41813158988952637\n"
     ]
    }
   ],
   "source": [
    "def fibr(n): #funkcja rekurencyjnie licząca ciąg fibonacciego i zwracają listę n wyrazów\n",
    "    if n == 0:\n",
    "        return 0\n",
    "    elif n == 1:\n",
    "        return 1\n",
    "    else:\n",
    "        return fibr(n-2) + fibr(n-1)\n",
    "def lista(n):\n",
    "    lista = []\n",
    "    for i in range(0, n+1):\n",
    "        lista.append(fibr(i))\n",
    "    return lista\n",
    "print(lista(30))\n",
    "    \n",
    "start = time.time() #liczymy czas wykonania funkcji\n",
    "fibr(30)\n",
    "end = time.time()\n",
    "time = end - start\n",
    "print(time) "
   ]
  },
  {
   "cell_type": "markdown",
   "metadata": {},
   "source": [
    "### Zadanie 4"
   ]
  },
  {
   "cell_type": "code",
   "execution_count": 9,
   "metadata": {},
   "outputs": [
    {
     "name": "stdout",
     "output_type": "stream",
     "text": [
      "[0, 1, 1, 2, 3, 5, 8, 13, 21, 34, 55, 89, 144, 233, 377, 610, 987, 1597, 2584, 4181, 6765, 10946, 17711, 28657, 46368, 75025, 121393, 196418, 317811, 514229, 832040]\n",
      "0.0\n"
     ]
    }
   ],
   "source": [
    "def fibi(n): #funkcja iteracyjnie licząca ciąg fibonacciego i zwracająca listę n wyrazów\n",
    "    a,b = 0,1\n",
    "    for i in range(n):\n",
    "        a,b = b,a+b\n",
    "    return a\n",
    "def lista(n):\n",
    "    lista = []\n",
    "    for i in range(0, n+1):\n",
    "        lista.append(fibi(i))\n",
    "    return lista\n",
    "print(lista(30))\n",
    "\n",
    "start = time.time() #liczymy czas wykonania funkcji\n",
    "fibi(30)\n",
    "end = time.time()\n",
    "time = end - start\n",
    "print(time)"
   ]
  },
  {
   "cell_type": "markdown",
   "metadata": {},
   "source": [
    "### Zadanie 5"
   ]
  },
  {
   "cell_type": "code",
   "execution_count": 10,
   "metadata": {},
   "outputs": [
    {
     "name": "stdout",
     "output_type": "stream",
     "text": [
      "Słowo jest palindromem!\n"
     ]
    }
   ],
   "source": [
    "def palindrom(word):\n",
    "    word=word.lower() #zmieniamy wszystkie litery na małe\n",
    "    new_word=''.join(char for char in word if char.isalnum()) #usuwamy tą funkcją wszystkie znaki specjalne\n",
    "    for i in range(1,len(word)): #pętla sprawdzająca czy odpowiednie indeksy słowa się zgadzają\n",
    "        if new_word[i-1] == new_word[-i]:\n",
    "            continue\n",
    "        else:\n",
    "            return 'Słowo nie jest palindromem!'\n",
    "    return 'Słowo jest palindromem!'\n",
    "print(palindrom('11:11'))"
   ]
  },
  {
   "cell_type": "markdown",
   "metadata": {},
   "source": [
    "### Zadanie 6"
   ]
  },
  {
   "cell_type": "code",
   "execution_count": 11,
   "metadata": {},
   "outputs": [
    {
     "name": "stdout",
     "output_type": "stream",
     "text": [
      "True\n"
     ]
    }
   ],
   "source": [
    "def sortowanie(n):\n",
    "    lista=[]\n",
    "    if (type(n[0])==str):\n",
    "        n = n.lower()        \n",
    "    for char in n: #pętla zamieniająca każdą literę słowa na kod ascii\n",
    "        x = ord(char)\n",
    "        lista.append(x) #lista zapisująca każdy kod ascii litery\n",
    "        for i in range(len(lista)-1): #pętla sprawdzająca czy lista jest posortowana\n",
    "            if (x>=48 and x<=57) or (x>=65 and x<=90) or (x>=97 and x<=122): #usuwamy znaki specjalne ze słów\n",
    "                if lista[i]>=lista[i+1]:\n",
    "                    continue\n",
    "                else:\n",
    "                    return False\n",
    "    return True\n",
    "                            \n",
    "\n",
    "print(sortowanie('hEa'))"
   ]
  },
  {
   "cell_type": "markdown",
   "metadata": {},
   "source": [
    "### Zadanie 7"
   ]
  },
  {
   "cell_type": "code",
   "execution_count": 12,
   "metadata": {},
   "outputs": [
    {
     "name": "stdout",
     "output_type": "stream",
     "text": [
      "Słowa nie są anagramami\n"
     ]
    }
   ],
   "source": [
    "def anagram(a, b):\n",
    "    lista1=[] \n",
    "    lista2=[]\n",
    "    for i in a: #pętla dopisująca do pierwszej listy wszystkie litery słowa\n",
    "        lista1.append(i)\n",
    "    for k in b: #pętla dopisująca do drugiej listy wszystkie litery słowa\n",
    "        lista2.append(k)\n",
    "    lista1.sort() #sortujemy obie listy\n",
    "    lista2.sort()\n",
    "    if lista1==lista2: #jeśli listy są takie same to słowa są anagramami\n",
    "        return 'Słowa są anagramami'\n",
    "    else:\n",
    "        return 'Słowa nie są anagramami'\n",
    "print(anagram('mataaa','taama'))"
   ]
  }
 ],
 "metadata": {
  "kernelspec": {
   "display_name": "Python 3",
   "language": "python",
   "name": "python3"
  },
  "language_info": {
   "codemirror_mode": {
    "name": "ipython",
    "version": 3
   },
   "file_extension": ".py",
   "mimetype": "text/x-python",
   "name": "python",
   "nbconvert_exporter": "python",
   "pygments_lexer": "ipython3",
   "version": "3.11.2"
  }
 },
 "nbformat": 4,
 "nbformat_minor": 2
}
