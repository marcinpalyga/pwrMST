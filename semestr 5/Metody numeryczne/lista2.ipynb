{
 "cells": [
  {
   "cell_type": "markdown",
   "metadata": {},
   "source": [
    "# Lista 2"
   ]
  },
  {
   "cell_type": "markdown",
   "metadata": {},
   "source": [
    "### Zaimplementowane biblioteki"
   ]
  },
  {
   "cell_type": "code",
   "execution_count": 2,
   "metadata": {},
   "outputs": [],
   "source": [
    "import numpy as np\n",
    "from scipy import linalg"
   ]
  },
  {
   "cell_type": "markdown",
   "metadata": {},
   "source": [
    "### Funkcje używane w zadaniach"
   ]
  },
  {
   "cell_type": "code",
   "execution_count": 4,
   "metadata": {},
   "outputs": [],
   "source": [
    "def partial_elimination(A,b):\n",
    "    A = np.array(A).astype(float)\n",
    "    b = np.array(b).astype(float)\n",
    "    n = len(b)\n",
    "    row_idx = 0\n",
    "    col_idx = 0\n",
    "    for i in range(n-1):\n",
    "        col_nums = []\n",
    "        col_nums.append(A[row_idx:,i])\n",
    "        col_max = np.max(col_nums)\n",
    "        pivot_row = np.argwhere(A[:,col_idx]==col_max)[-1][0]\n",
    "        A[[row_idx, pivot_row]] = A[[pivot_row, row_idx]]\n",
    "        b[[row_idx, pivot_row]] = b[[pivot_row, row_idx]]\n",
    "        for k in range(row_idx, n-1):\n",
    "            lam = A[k+1,col_idx]/A[row_idx,col_idx]\n",
    "            A[k+1, :] = A[k+1, :] - lam*A[row_idx, :]\n",
    "            b[k+1] = b[k+1] - lam*b[row_idx]\n",
    "        row_idx += 1\n",
    "        col_idx += 1  \n",
    "    for k in range(n-1,-1,-1):\n",
    "        b[k] = (b[k] - np.dot(A[k,k+ 1:n],b[k+ 1:n]))/A[k,k] \n",
    "    return A, b     "
   ]
  },
  {
   "cell_type": "markdown",
   "metadata": {},
   "source": [
    "### Zadanie 4"
   ]
  },
  {
   "cell_type": "code",
   "execution_count": 4,
   "metadata": {},
   "outputs": [
    {
     "name": "stdout",
     "output_type": "stream",
     "text": [
      "[ 2. -2.  1.  1. -1.]\n",
      "[ 2. -2.  1.  1. -1.]\n"
     ]
    }
   ],
   "source": [
    "a = np.array([[0,0,2,1,2],[0,1,0,2,-1],[1,2,0,-2,0],[0,0,0,-1,1],[0,1,-1,1,-1]])\n",
    "b = np.array([1,1,-4,-2,-1])\n",
    "\n",
    "_, sol = partial_elimination(a,b)\n",
    "print(sol)\n",
    "print(linalg.solve(a,b))"
   ]
  },
  {
   "cell_type": "markdown",
   "metadata": {},
   "source": [
    "### Zadanie 5"
   ]
  },
  {
   "cell_type": "code",
   "execution_count": 5,
   "metadata": {},
   "outputs": [
    {
     "name": "stdout",
     "output_type": "stream",
     "text": [
      "[-1.          2.68333333 -0.875       0.21666667 -0.025     ]\n",
      "[-1.          2.68333333 -0.875       0.21666667 -0.025     ]\n"
     ]
    }
   ],
   "source": [
    "a = np.array([[1.0,0.0,0.0,0.0,0.0],[1.0,1.0,1.0,1.0,1.0],[1.0,3.0,9.0,27.0,81.0],[1.0,5.0,5.0**2,5.0**3,5.0**4],[1.0,6.0,6.0**2,6.0**3,6.0**4]])\n",
    "b = np.array([-1.0,1.0,3.0,2.0,-2.0])\n",
    "\n",
    "_,sol = partial_elimination(a,b)\n",
    "print(sol)\n",
    "print(linalg.solve(a,b))"
   ]
  },
  {
   "cell_type": "markdown",
   "metadata": {},
   "source": [
    "### Zadanie 6"
   ]
  },
  {
   "cell_type": "code",
   "execution_count": 5,
   "metadata": {},
   "outputs": [
    {
     "name": "stdout",
     "output_type": "stream",
     "text": [
      "[1. 1. 1. 1.]\n",
      "[1. 1. 1. 1.]\n",
      "Wyznacznik macierzy A wynosi -0.2257973399999901\n",
      "[ 7.31  4.23 13.85 11.55]\n"
     ]
    }
   ],
   "source": [
    "a = np.array([[3.50,2.77,-0.76,1.80],[-1.80,2.68,3.44,-0.09],[0.27,5.07,6.90,1.61],[1.71,5.45,2.68,1.71]])\n",
    "b = np.array([7.31,4.23,13.85,11.55])\n",
    "\n",
    "_,sol = partial_elimination(a,b)\n",
    "print(sol)\n",
    "print(linalg.solve(a,b))\n",
    "print(f'Wyznacznik macierzy A wynosi {np.linalg.det(a)}')\n",
    "Ax = np.matmul(a, sol)\n",
    "print(Ax)"
   ]
  },
  {
   "cell_type": "markdown",
   "metadata": {},
   "source": [
    "### Zadanie 7"
   ]
  },
  {
   "cell_type": "code",
   "execution_count": 7,
   "metadata": {},
   "outputs": [
    {
     "name": "stdout",
     "output_type": "stream",
     "text": [
      "[-1.  1. -1.  1. -1.  1. -1.  1.]\n",
      "[-1.  1. -1.  1. -1.  1. -1.  1.]\n"
     ]
    }
   ],
   "source": [
    "a = np.array([[10.0,-2.0,-1.0,2.0,3.0,1.0,-4.0,7.0],[5.0,11.0,3.0,10.0,-3.0,3.0,3.0,-4.0],[7.0,12.0,1.0,5.0,3.0,-12.0,2.0,3.0],[8.0,7.0,-2.0,1.0,3.0,2.0,2.0,4.0],[2.0,-15.0,-1.0,1.0,4.0,-1.0,8.0,3.0],[4.0,2.0,9.0,1.0,12.0,-1.0,4.0,1.0],[-1.0,4.0,-7.0,-1.0,1.0,1.0,-1.0,-3.0],[-1.0,3.0,4.0,1.0,3.0,-4.0,7.0,6.0]])\n",
    "b = np.array([0.0,12.0,-5.0,3.0,-25.0,-26.0,9.0,-7.0])\n",
    "\n",
    "_,sol = partial_elimination(a,b)\n",
    "print(sol)\n",
    "print(linalg.solve(a,b))"
   ]
  },
  {
   "cell_type": "markdown",
   "metadata": {},
   "source": [
    "### Zadanie 8"
   ]
  },
  {
   "cell_type": "code",
   "execution_count": 8,
   "metadata": {},
   "outputs": [
    {
     "name": "stdout",
     "output_type": "stream",
     "text": [
      "[[ 0.78666667  0.57333333  0.36        0.14666667 -0.06666667 -0.01333333]\n",
      " [ 0.57333333  1.14666667  0.72        0.29333333 -0.13333333 -0.02666667]\n",
      " [ 0.36        0.72        1.08        0.44       -0.2        -0.04      ]\n",
      " [ 0.14666667  0.29333333  0.44        0.58666667 -0.26666667 -0.05333333]\n",
      " [-0.06666667 -0.13333333 -0.2        -0.26666667 -0.33333333 -0.06666667]\n",
      " [-0.01333333 -0.02666667 -0.04       -0.05333333 -0.06666667  0.18666667]]\n",
      "[[ 0.78666667  0.57333333  0.36        0.14666667 -0.06666667 -0.01333333]\n",
      " [ 0.57333333  1.14666667  0.72        0.29333333 -0.13333333 -0.02666667]\n",
      " [ 0.36        0.72        1.08        0.44       -0.2        -0.04      ]\n",
      " [ 0.14666667  0.29333333  0.44        0.58666667 -0.26666667 -0.05333333]\n",
      " [-0.06666667 -0.13333333 -0.2        -0.26666667 -0.33333333 -0.06666667]\n",
      " [-0.01333333 -0.02666667 -0.04       -0.05333333 -0.06666667  0.18666667]]\n",
      "Macierz odwrotna nie jest trójdiagonalna\n"
     ]
    }
   ],
   "source": [
    "a = np.array([[2.0,-1.0,0.0,0.0,0.0,0.0],[-1.0,2.0,-1.0,0.0,0.0,0.0],[0.0,-1.0,2.0,-1.0,0.0,0.0,],[0.0,0.0,-1.0,2.0,-1.0,0.0],[0.0,0.0,0.0,-1.0,-2.0,-1.0,],[0.0,0.0,0.0,0.0,-1.0,5.0]])\n",
    "b = np.array([[1.0,0.0,0.0,0.0,0.0,0.0],[0.0,1.0,0.0,0.0,0.0,0.0],[0.0,0.0,1.0,0.0,0.0,0.0],[0.0,0.0,0.0,1.0,0.0,0.0],[0.0,0.0,0.0,0.0,1.0,0.0],[0.0,0.0,0.0,0.0,0.0,1.0]])\n",
    "\n",
    "_,sol = partial_elimination(a,b)\n",
    "print(sol)\n",
    "print(linalg.inv(a))\n",
    "print(f'Macierz odwrotna nie jest trójdiagonalna')"
   ]
  },
  {
   "cell_type": "markdown",
   "metadata": {},
   "source": [
    "### Zadanie 9"
   ]
  },
  {
   "cell_type": "code",
   "execution_count": 9,
   "metadata": {},
   "outputs": [
    {
     "name": "stdout",
     "output_type": "stream",
     "text": [
      "[[-7.42166231e+14 -7.42166231e+14 -7.42166231e+14 -1.48433246e+15\n",
      "   1.48433246e+15]\n",
      " [-3.52528960e+15 -3.52528960e+15 -3.52528960e+15 -7.05057919e+15\n",
      "   7.05057919e+15]\n",
      " [-5.90359502e+14 -5.90359502e+14 -5.90359502e+14 -1.18071900e+15\n",
      "   1.18071900e+15]\n",
      " [ 0.00000000e+00  0.00000000e+00  1.00000000e+00  1.00000000e+00\n",
      "  -1.00000000e+00]\n",
      " [ 1.50119988e+15  1.50119988e+15  1.50119988e+15  3.00239975e+15\n",
      "  -3.00239975e+15]]\n",
      "[[ 1.10000000e+01  1.00000000e+00 -2.00000000e+00  1.80000000e+01\n",
      "   7.00000000e+00]\n",
      " [ 0.00000000e+00  2.90909091e+00 -8.81818182e+00  4.36363636e+00\n",
      "   3.36363636e+00]\n",
      " [ 0.00000000e+00  0.00000000e+00  2.78125000e+00  7.50000000e+00\n",
      "   1.09375000e+00]\n",
      " [ 0.00000000e+00  0.00000000e+00  0.00000000e+00  1.00000000e+00\n",
      "   0.00000000e+00]\n",
      " [ 0.00000000e+00  0.00000000e+00  0.00000000e+00  0.00000000e+00\n",
      "   6.66133815e-16]]\n",
      "Wyznacznik macierzy A jest równy 0.0 więc macierz odwrotna nie istnieje\n"
     ]
    }
   ],
   "source": [
    "a = np.array([[1.0,3.0,-9.0,6.0,4.0],[2.0,-1.0,6.0,7.0,1.0],[3.0,2.0,-3.0,15.0,5.0],[8.0,-1.0,1.0,4.0,2.0],[11.0,1.0,-2.0,18.0,7.0]])\n",
    "b = np.array([[1.0,0.0,0.0,0.0,0.0],[0.0,1.0,0.0,0.0,0.0],[0.0,0.0,1.0,0.0,0.0],[0.0,0.0,0.0,1.0,0.0],[0.0,0.0,0.0,0.0,1.0]])\n",
    "\n",
    "arr, sol = partial_elimination(a,b)\n",
    "print(sol)\n",
    "print(arr)\n",
    "print(f'Wyznacznik macierzy A jest równy {linalg.det(a)} więc macierz odwrotna nie istnieje')"
   ]
  }
 ],
 "metadata": {
  "kernelspec": {
   "display_name": "Python 3",
   "language": "python",
   "name": "python3"
  },
  "language_info": {
   "codemirror_mode": {
    "name": "ipython",
    "version": 3
   },
   "file_extension": ".py",
   "mimetype": "text/x-python",
   "name": "python",
   "nbconvert_exporter": "python",
   "pygments_lexer": "ipython3",
   "version": "3.11.2"
  }
 },
 "nbformat": 4,
 "nbformat_minor": 2
}
