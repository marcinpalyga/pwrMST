{
 "cells": [
  {
   "cell_type": "markdown",
   "metadata": {},
   "source": [
    "## Lista 3"
   ]
  },
  {
   "cell_type": "markdown",
   "metadata": {},
   "source": [
    "### Zaimportowane biblioteki"
   ]
  },
  {
   "cell_type": "code",
   "execution_count": 1,
   "metadata": {},
   "outputs": [],
   "source": [
    "import numpy as np\n",
    "import scipy as sp\n",
    "import time\n",
    "import cProfile\n",
    "import matplotlib.pyplot as plt"
   ]
  },
  {
   "cell_type": "markdown",
   "metadata": {},
   "source": [
    "### Funkcje używane w zadaniach"
   ]
  },
  {
   "cell_type": "code",
   "execution_count": 15,
   "metadata": {},
   "outputs": [],
   "source": [
    "def GaussSeidel(A,b,n):\n",
    "    L = np.tril(A, k=-1)\n",
    "    U = np.triu(A, k=1)\n",
    "    D = np.zeros((len(A), len(A)), float)\n",
    "    np.fill_diagonal(D, np.diag(A))\n",
    "    x = np.zeros(len(A))\n",
    "    T = -(np.linalg.inv(D+L))@U\n",
    "    C = (np.linalg.inv(D+L))@b\n",
    "    xs = []\n",
    "    for i in range(n):\n",
    "        x = T@x+C\n",
    "        xs.append(x)\n",
    "    return x, xs\n"
   ]
  },
  {
   "cell_type": "code",
   "execution_count": 3,
   "metadata": {},
   "outputs": [],
   "source": [
    "def matrix_gen(n):\n",
    "    A = np.zeros((n,n), float)\n",
    "    d = 4*np.ones(n)\n",
    "    ud = -1*np.ones(n-1)\n",
    "    A = A + np.diag(d) + np.diag(ud, k=1) + np.diag(ud, k=-1)\n",
    "    A[0][-1] = 1\n",
    "    A[-1][0] = 1\n",
    "    return A\n"
   ]
  },
  {
   "cell_type": "markdown",
   "metadata": {},
   "source": [
    "### Zadanie 1"
   ]
  },
  {
   "cell_type": "code",
   "execution_count": 5,
   "metadata": {},
   "outputs": [
    {
     "data": {
      "text/plain": [
       "array([   -95.00000002,   2160.00000045, -10710.00000198,  17920.000003  ,\n",
       "        -9450.00000147])"
      ]
     },
     "execution_count": 5,
     "metadata": {},
     "output_type": "execute_result"
    }
   ],
   "source": [
    "A = sp.linalg.hilbert(5)\n",
    "b = np.array([5., 4., 3., 2., 1.])\n",
    "x = np.zeros(5)\n",
    "u = 0.00001\n",
    "P, L, U = sp.linalg.lu(A)\n",
    "x = np.linalg.inv(U)@(np.linalg.inv(L)@b)\n",
    "r = b - A@x\n",
    "while (np.linalg.norm(r) > np.linalg.norm(A@x)*u) and (np.linalg.norm(r) > np.linalg.norm(b)*u):\n",
    "    delta_x = np.linalg.inv(A)@r\n",
    "    x = x + delta_x\n",
    "    r = b - A@x\n",
    "x"
   ]
  },
  {
   "cell_type": "markdown",
   "metadata": {},
   "source": [
    "### Zadanie 2"
   ]
  },
  {
   "cell_type": "code",
   "execution_count": 16,
   "metadata": {},
   "outputs": [
    {
     "data": {
      "text/plain": [
       "array([-7.73502692e+00, -2.07259421e+00, -5.55349941e-01, -1.48805549e-01,\n",
       "       -3.98722562e-02, -1.06834753e-02, -2.86164518e-03, -7.63105381e-04,\n",
       "       -1.90776345e-04, -6.77626358e-21,  1.90776345e-04,  7.63105381e-04,\n",
       "        2.86164518e-03,  1.06834753e-02,  3.98722562e-02,  1.48805549e-01,\n",
       "        5.55349941e-01,  2.07259421e+00,  7.73502692e+00,  2.88675135e+01])"
      ]
     },
     "execution_count": 16,
     "metadata": {},
     "output_type": "execute_result"
    }
   ],
   "source": [
    "A = matrix_gen(20)\n",
    "b = np.zeros(20)\n",
    "b[-1] = 100\n",
    "sol, xs = GaussSeidel(A, b, 2000)\n",
    "sol"
   ]
  },
  {
   "cell_type": "markdown",
   "metadata": {},
   "source": [
    "### Zadanie 3"
   ]
  },
  {
   "cell_type": "code",
   "execution_count": 45,
   "metadata": {},
   "outputs": [
    {
     "data": {
      "text/plain": [
       "array([-7.73502692e+00, -2.07259421e+00, -5.55349941e-01, -1.48805549e-01,\n",
       "       -3.98722562e-02, -1.06834753e-02, -2.86164518e-03, -7.63105381e-04,\n",
       "       -1.90776345e-04, -3.63138871e-20,  1.90776345e-04,  7.63105381e-04,\n",
       "        2.86164518e-03,  1.06834753e-02,  3.98722562e-02,  1.48805549e-01,\n",
       "        5.55349941e-01,  2.07259421e+00,  7.73502692e+00,  2.88675135e+01])"
      ]
     },
     "execution_count": 45,
     "metadata": {},
     "output_type": "execute_result"
    }
   ],
   "source": [
    "sol, xs = GaussSeidel(A, b, 50)\n",
    "exact_sol = sp.linalg.solve(A,b)\n",
    "exact_sol"
   ]
  },
  {
   "cell_type": "code",
   "execution_count": 46,
   "metadata": {},
   "outputs": [
    {
     "data": {
      "text/plain": [
       "array([[7.73502692e+00, 2.07259421e+00, 5.55349941e-01, 1.48805549e-01,\n",
       "        3.98722562e-02, 1.06834753e-02, 2.86164518e-03, 7.63105381e-04,\n",
       "        1.90776345e-04, 3.63138871e-20, 1.90776345e-04, 7.63105381e-04,\n",
       "        2.86164518e-03, 1.06834753e-02, 3.98722562e-02, 1.48805549e-01,\n",
       "        5.55349941e-01, 2.07259421e+00, 7.73502692e+00, 3.86751346e+00],\n",
       "       [1.48502692e+00, 5.10094215e-01, 1.64724941e-01, 5.11492993e-02,\n",
       "        1.54581937e-02, 4.57995971e-03, 1.33576627e-03, 3.81635654e-04,\n",
       "        9.54089136e-05, 2.38418579e-05, 1.96736810e-04, 7.64595497e-04,\n",
       "        2.86201771e-03, 1.06835685e-02, 3.98722794e-02, 1.48805555e-01,\n",
       "        5.55349943e-01, 2.07259422e+00, 1.48502692e+00, 7.42513459e-01],\n",
       "       [3.13151919e-01, 1.19469215e-01, 4.26546286e-02, 1.45282056e-02,\n",
       "        4.77704132e-03, 1.52820190e-03, 4.77459388e-04, 1.43217075e-04,\n",
       "        2.98438044e-05, 4.17232513e-05, 2.01579687e-04, 7.65899349e-04,\n",
       "        2.86236695e-03, 1.06836616e-02, 3.98723042e-02, 1.48805562e-01,\n",
       "        5.55349944e-01, 5.10094216e-01, 3.13151919e-01, 1.56575959e-01],\n",
       "       [6.90112936e-02, 2.79164805e-02, 1.06111715e-02, 3.84705321e-03,\n",
       "        1.34381378e-03, 4.55318291e-04, 1.49633842e-04, 4.48694115e-05,\n",
       "        7.86540038e-07, 5.01982868e-05, 2.04024409e-04, 7.66597841e-04,\n",
       "        2.86256486e-03, 1.06837173e-02, 3.98723197e-02, 1.48805566e-01,\n",
       "        1.64724945e-01, 1.19469216e-01, 6.90112938e-02, 3.45056468e-02],\n",
       "       [1.56055318e-02, 6.55417584e-03, 2.60030726e-03, 9.86030260e-04,\n",
       "        3.60337138e-04, 1.27492745e-04, 4.30905391e-05, 1.09692698e-05,\n",
       "        9.80725425e-06, 5.34579158e-05, 2.05013939e-04, 7.66894700e-04,\n",
       "        2.86265299e-03, 1.06837432e-02, 3.98723273e-02, 5.11493182e-02,\n",
       "        4.26546336e-02, 2.79164818e-02, 1.56055322e-02, 7.80276600e-03],\n",
       "       [3.58923546e-03, 1.54738568e-03, 6.33353985e-04, 2.48422781e-04,\n",
       "        9.39788814e-05, 3.42673551e-05, 1.13091562e-05, 3.75475494e-07,\n",
       "        1.32706101e-05, 5.45711373e-05, 2.05366459e-04, 7.67004862e-04,\n",
       "        2.86268701e-03, 1.06837536e-02, 1.54582679e-02, 1.45282254e-02,\n",
       "        1.06111768e-02, 6.55417725e-03, 3.58923581e-03, 1.79461782e-03],\n",
       "       [8.35500875e-04, 3.67213715e-04, 1.53909124e-04, 6.19720013e-05,\n",
       "        2.40598391e-05, 8.84224883e-06, 2.30443108e-06, 2.74154475e-06,\n",
       "        1.43281705e-05, 5.49236574e-05, 2.05482130e-04, 7.67042285e-04,\n",
       "        2.86269897e-03, 4.58024173e-03, 4.77711677e-03, 3.84707340e-03,\n",
       "        2.60031266e-03, 1.54738712e-03, 8.35501234e-04, 4.17750527e-04],\n",
       "       [1.96241061e-04, 8.75375461e-05, 3.73773869e-05, 1.53593065e-05,\n",
       "        6.05038883e-06, 2.08870498e-06, 1.63209942e-07, 3.62284511e-06,\n",
       "        1.46366256e-05, 5.50296889e-05, 2.05517994e-04, 7.67054240e-04,\n",
       "        1.33682399e-03, 1.52848519e-03, 1.34388965e-03, 9.86050577e-04,\n",
       "        6.33359424e-04, 3.67215164e-04, 1.96241423e-04, 9.81206209e-05],\n",
       "       [4.64145417e-05, 2.09479822e-05, 9.07682216e-06, 3.78180275e-06,\n",
       "        1.46762693e-06, 3.26104247e-07, 8.24185217e-07, 3.86520271e-06,\n",
       "        1.47237229e-05, 5.50604291e-05, 2.05528667e-04, 3.85588165e-04,\n",
       "        4.78518339e-04, 4.55601996e-04, 3.60413143e-04, 2.48443142e-04,\n",
       "        1.53914577e-04, 8.75389999e-05, 4.64149052e-05, 2.32073617e-05],\n",
       "       [1.10388360e-05, 5.02891453e-06, 2.20267932e-06, 9.17576563e-07,\n",
       "        3.10920203e-07, 1.28316253e-07, 9.98379742e-07, 3.93052566e-06,\n",
       "        1.47477387e-05, 5.50691015e-05, 1.10164317e-04, 1.47170664e-04,\n",
       "        1.50693165e-04, 1.27776577e-04, 9.40549297e-05, 6.19923766e-05,\n",
       "        3.73828441e-05, 2.09494373e-05, 1.10391998e-05, 5.51950894e-06],\n",
       "       [2.63710587e-06, 1.20994630e-06, 5.31880715e-07, 2.10700229e-07,\n",
       "        2.05959940e-08, 2.44445937e-07, 1.04374290e-06, 3.94787040e-06,\n",
       "        1.47542430e-05, 3.12296399e-05, 4.46000759e-05, 4.88233103e-05,\n",
       "        4.41499718e-05, 3.45512254e-05, 2.41359005e-05, 1.53796861e-05,\n",
       "        9.08228087e-06, 5.03037016e-06, 2.63746977e-06, 1.31864391e-06],\n",
       "       [6.32147552e-07, 2.91007067e-07, 1.25426824e-07, 3.65057045e-08,\n",
       "        5.19850581e-08, 2.73931989e-07, 1.05545060e-06, 3.95242339e-06,\n",
       "        8.79551582e-06, 1.33488979e-05, 1.55430520e-05, 1.49232560e-05,\n",
       "        1.23686203e-05, 9.12613021e-06, 6.12645409e-06, 3.80218374e-06,\n",
       "        2.20813847e-06, 1.21140206e-06, 6.32511492e-07, 3.16164762e-07],\n",
       "       [1.51792958e-07, 6.93049453e-08, 2.64526625e-08, 6.38309891e-09,\n",
       "        7.00787721e-08, 2.81382342e-07, 1.05845143e-06, 2.46349181e-06,\n",
       "        3.95309744e-06, 4.87403737e-06, 4.94932334e-06, 4.32948592e-06,\n",
       "        3.36390403e-06, 2.37258953e-06, 1.54369332e-06, 9.37957948e-07,\n",
       "        5.37340002e-07, 2.92462873e-07, 1.52156908e-07, 7.59874652e-08],\n",
       "       [3.63231027e-08, 1.56939413e-08, 2.32771069e-09, 1.69377654e-08,\n",
       "        7.45800269e-08, 2.83257865e-07, 6.86687419e-07, 1.15994621e-06,\n",
       "        1.50849590e-06, 1.61445481e-06, 1.48598518e-06, 1.21247230e-06,\n",
       "        8.96265458e-07, 6.09989694e-07, 3.86986910e-07, 2.31081728e-07,\n",
       "        1.30886150e-07, 7.07607648e-08, 3.66870561e-08, 1.82525426e-08],\n",
       "       [8.48662118e-09, 2.70358314e-09, 3.55854557e-09, 1.95346432e-08,\n",
       "        7.56981270e-08, 1.90596387e-07, 3.37635650e-07, 4.61532887e-07,\n",
       "        5.18996924e-07, 5.01245526e-07, 4.28429457e-07, 3.31173729e-07,\n",
       "        2.35290856e-07, 1.55569442e-07, 9.66627924e-08, 5.68872357e-08,\n",
       "        3.19120000e-08, 1.71497638e-08, 8.85057627e-09, 4.33430003e-09],\n",
       "       [1.75947079e-09, 4.49768667e-10, 4.99610298e-09, 2.01735575e-08,\n",
       "        5.26924860e-08, 9.75820341e-08, 1.39778730e-07, 1.64693913e-07,\n",
       "        1.66484860e-07, 1.48728579e-07, 1.19975577e-07, 8.88166082e-08,\n",
       "        6.10965124e-08, 3.94398262e-08, 2.40817655e-08, 1.39984414e-08,\n",
       "        7.78705123e-09, 4.15940660e-09, 2.12342588e-09, 9.70725722e-10],\n",
       "       [1.30239819e-10, 1.21646559e-09, 5.34750577e-09, 1.45099980e-08,\n",
       "        2.80230080e-08, 4.19504345e-08, 5.16610870e-08, 5.45364867e-08,\n",
       "        5.08162665e-08, 4.26979609e-08, 3.28786423e-08, 2.34937887e-08,\n",
       "        1.57334037e-08, 9.95379230e-09, 5.98805842e-09, 3.44377740e-09,\n",
       "        1.90079597e-09, 1.00605524e-09, 4.94194907e-10, 1.56109792e-10],\n",
       "       [2.65088396e-10, 1.40314871e-09, 3.97828670e-09, 8.00032371e-09,\n",
       "        1.24876896e-08, 1.60371941e-08, 1.76434202e-08, 1.71149217e-08,\n",
       "        1.49532206e-08, 1.19579657e-08, 8.86293860e-09, 6.14908558e-09,\n",
       "        4.02571947e-09, 2.50344447e-09, 1.48680547e-09, 8.46900383e-10,\n",
       "        4.63238781e-10, 2.39358311e-10, 9.88666926e-11, 4.15560919e-11],\n",
       "       [3.61175978e-10, 1.08486553e-09, 2.27129737e-09, 3.68974676e-09,\n",
       "        4.93173522e-09, 5.64378886e-09, 5.68967764e-09, 5.16072457e-09,\n",
       "        4.27967258e-09, 3.28565279e-09, 2.35868459e-09, 1.59610102e-09,\n",
       "        1.02488637e-09, 6.27922958e-10, 3.68705837e-10, 2.07986156e-10,\n",
       "        1.11836096e-10, 5.26756416e-11, 2.77911028e-12, 8.95994390e-11],\n",
       "       [2.93615798e-10, 6.41228404e-10, 1.08274378e-09, 1.50361978e-09,\n",
       "        1.78685216e-09, 1.86913245e-09, 1.75746425e-09, 1.50928421e-09,\n",
       "        1.19873425e-09, 8.89354711e-10, 6.21363932e-10, 4.11562576e-10,\n",
       "        2.59871384e-10, 1.57144305e-10, 9.12826134e-11, 5.07796583e-11,\n",
       "        2.58637556e-11, 7.16049442e-12, 2.06101802e-11, 7.85576049e-11],\n",
       "       [1.79946724e-10, 3.15672377e-10, 4.54823068e-10, 5.60418850e-10,\n",
       "        6.07387821e-10, 5.91213016e-10, 5.25124306e-10, 4.30964639e-10,\n",
       "        3.30079838e-10, 2.37860942e-10, 1.62355880e-10, 1.05556816e-10,\n",
       "        6.56752799e-11, 3.92394728e-11, 2.25047828e-11, 1.20921606e-11,\n",
       "        4.81303886e-12, 3.94928534e-12, 2.06270556e-11, 5.01430009e-11],\n",
       "       [9.14539555e-11, 1.36569422e-10, 1.74246950e-10, 1.95408717e-10,\n",
       "        1.96655435e-10, 1.80444933e-10, 1.52852393e-10, 1.20733058e-10,\n",
       "        8.96485000e-11, 6.30010949e-11, 4.21394776e-11, 2.69536893e-11,\n",
       "        1.65482901e-11, 9.76326658e-12, 5.46386547e-12, 2.56922261e-12,\n",
       "        3.44946294e-13, 5.24291721e-12, 1.38467016e-11, 2.63256084e-11],\n",
       "       [4.07238687e-11, 5.37427880e-11, 6.22878416e-11, 6.47358556e-11,\n",
       "        6.12951911e-11, 5.35368954e-11, 4.35674877e-11, 3.33039971e-11,\n",
       "        2.40762730e-11, 1.65539376e-11, 1.08769067e-11, 6.85629906e-12,\n",
       "        4.15489127e-12, 2.40468756e-12, 1.24347754e-12, 2.24625873e-13,\n",
       "        1.25466304e-12, 3.77564646e-12, 7.52553575e-12, 1.20614629e-11],\n",
       "       [1.64508407e-11, 1.96846983e-11, 2.11051177e-11, 2.06001050e-11,\n",
       "        1.85342505e-11, 1.55254334e-11, 1.22073575e-11, 9.07090776e-12,\n",
       "        6.40621134e-12, 4.32077952e-12, 2.79426967e-12, 1.73729011e-12,\n",
       "        1.03549374e-12, 5.69742170e-13, 1.98591144e-13, 2.64011035e-13,\n",
       "        1.00996989e-12, 2.13384865e-12, 3.55004914e-12, 4.99866815e-12],\n",
       "       [6.17106366e-12, 6.81898982e-12, 6.85473900e-12, 6.34725605e-12,\n",
       "        5.46817452e-12, 4.41888019e-12, 3.37244685e-12, 2.44466470e-12,\n",
       "        1.69136105e-12, 1.12140769e-12, 7.14674468e-13, 4.37541930e-13,\n",
       "        2.51820700e-13, 1.12600901e-13, 3.78447274e-14, 2.61929367e-13,\n",
       "        5.98965322e-13, 1.03739239e-12, 1.50901514e-12, 1.91846539e-12],\n",
       "       [2.18403073e-12, 2.25952590e-12, 2.15172324e-12, 1.90500393e-12,\n",
       "        1.58097146e-12, 1.23835317e-12, 9.20754358e-13, 6.53028955e-13,\n",
       "        4.43609152e-13, 2.89570903e-13, 1.81778204e-13, 1.08399617e-13,\n",
       "        5.52496417e-14, 4.35068648e-15, 6.43929354e-14, 1.65811809e-13,\n",
       "        3.00870440e-13, 4.52526905e-13, 5.93303184e-13, 6.92779167e-13],\n",
       "       [7.38076267e-13, 7.22533144e-13, 6.56807941e-13, 5.59469138e-13,\n",
       "        4.49459914e-13, 3.42550641e-13, 2.48895089e-13, 1.73126270e-13,\n",
       "        1.15674262e-13, 7.43631139e-14, 4.56907190e-14, 2.52350224e-14,\n",
       "        7.39642722e-15, 1.42490186e-14, 4.50056659e-14, 8.64863736e-14,\n",
       "        1.34781075e-13, 1.82076576e-13, 2.19380070e-13, 2.38031816e-13],\n",
       "       [2.39808173e-13, 2.24265051e-13, 1.95843342e-13, 1.61343161e-13,\n",
       "        1.25982558e-13, 9.37167011e-14, 6.67109597e-14, 4.55964476e-14,\n",
       "        2.99898723e-14, 1.89201386e-14, 1.10388044e-14, 4.60861817e-15,\n",
       "        2.41083195e-15, 1.18551002e-14, 2.45775622e-14, 3.98292510e-14,\n",
       "        5.55111512e-14, 6.88338275e-14, 7.72715225e-14, 7.81597009e-14],\n",
       "       [7.54951657e-14, 6.79456491e-14, 5.72875081e-14, 4.58244553e-14,\n",
       "        3.48887585e-14, 2.53963517e-14, 1.77488232e-14, 1.19348975e-14,\n",
       "        7.71369188e-15, 4.68812842e-15, 2.32417709e-15, 2.17924637e-17,\n",
       "        2.96941291e-15, 6.88685220e-15, 1.16712195e-14, 1.67921232e-14,\n",
       "        2.15383267e-14, 2.48689958e-14, 2.66453526e-14, 2.48689958e-14],\n",
       "       [2.30926389e-14, 1.99840144e-14, 1.65423231e-14, 1.28785871e-14,\n",
       "        9.56873469e-15, 6.82613688e-15, 4.69025860e-15, 3.10125189e-15,\n",
       "        1.94730842e-15, 1.06786894e-15, 2.61536669e-16, 6.77084257e-16,\n",
       "        1.89128227e-15, 3.39311912e-15, 5.04457587e-15, 6.66133815e-15,\n",
       "        7.99360578e-15, 8.88178420e-15, 8.88178420e-15, 7.10542736e-15],\n",
       "       [6.21724894e-15, 5.77315973e-15, 4.66293670e-15, 3.58046925e-15,\n",
       "        2.60208521e-15, 1.81972493e-15, 1.23035263e-15, 7.94611772e-16,\n",
       "        4.65610623e-16, 1.81784390e-16, 1.23815888e-16, 5.03828750e-16,\n",
       "        9.74914593e-16, 1.50573998e-15, 2.04003481e-15, 2.49800181e-15,\n",
       "        2.88657986e-15, 3.10862447e-15, 3.55271368e-15, 0.00000000e+00],\n",
       "       [8.88178420e-16, 1.33226763e-15, 1.22124533e-15, 9.71445147e-16,\n",
       "        7.07767178e-16, 4.80518403e-16, 3.18755439e-16, 1.96240593e-16,\n",
       "        9.45153244e-17, 7.33434976e-18, 1.27773226e-16, 2.75712612e-16,\n",
       "        4.45823933e-16, 6.21031004e-16, 7.77156117e-16, 9.43689571e-16,\n",
       "        1.11022302e-15, 1.33226763e-15, 8.88178420e-16, 0.00000000e+00],\n",
       "       [0.00000000e+00, 4.44089210e-16, 3.33066907e-16, 3.05311332e-16,\n",
       "        1.94289029e-16, 1.24900090e-16, 8.02309608e-17, 4.38017678e-17,\n",
       "        9.13440330e-18, 2.96621383e-17, 7.63278329e-17, 1.30537942e-16,\n",
       "        1.88217497e-16, 2.42861287e-16, 2.91433544e-16, 3.60822483e-16,\n",
       "        4.44089210e-16, 4.44089210e-16, 8.88178420e-16, 0.00000000e+00],\n",
       "       [0.00000000e+00, 0.00000000e+00, 1.11022302e-16, 8.32667268e-17,\n",
       "        5.55111512e-17, 3.29597460e-17, 1.90819582e-17, 7.15573434e-18,\n",
       "        5.63785130e-18, 2.04938536e-17, 3.77573407e-17, 5.65953534e-17,\n",
       "        7.54604712e-17, 9.19403442e-17, 1.11022302e-16, 1.66533454e-16,\n",
       "        2.22044605e-16, 4.44089210e-16, 8.88178420e-16, 0.00000000e+00],\n",
       "       [0.00000000e+00, 0.00000000e+00, 1.11022302e-16, 2.77555756e-17,\n",
       "        2.08166817e-17, 8.67361738e-18, 3.90312782e-18, 3.25260652e-19,\n",
       "        5.23127548e-18, 1.07495866e-17, 1.68322387e-17, 2.30935063e-17,\n",
       "        2.90566182e-17, 3.64291930e-17, 4.85722573e-17, 5.55111512e-17,\n",
       "        2.22044605e-16, 4.44089210e-16, 8.88178420e-16, 0.00000000e+00],\n",
       "       [0.00000000e+00, 0.00000000e+00, 1.11022302e-16, 2.77555756e-17,\n",
       "        1.38777878e-17, 1.73472348e-18, 4.33680869e-19, 1.08420217e-18,\n",
       "        2.98155597e-18, 4.95588124e-18, 6.99310401e-18, 8.99887803e-18,\n",
       "        1.17093835e-17, 1.73472348e-17, 1.38777878e-17, 5.55111512e-17,\n",
       "        2.22044605e-16, 4.44089210e-16, 8.88178420e-16, 0.00000000e+00],\n",
       "       [0.00000000e+00, 0.00000000e+00, 1.11022302e-16, 2.77555756e-17,\n",
       "        0.00000000e+00, 1.73472348e-18, 4.33680869e-19, 6.50521303e-19,\n",
       "        1.43656788e-18, 2.10985054e-18, 2.76471554e-18, 3.68628739e-18,\n",
       "        5.63785130e-18, 6.93889390e-18, 6.93889390e-18, 5.55111512e-17,\n",
       "        2.22044605e-16, 4.44089210e-16, 8.88178420e-16, 0.00000000e+00],\n",
       "       [0.00000000e+00, 0.00000000e+00, 1.11022302e-16, 0.00000000e+00,\n",
       "        0.00000000e+00, 1.73472348e-18, 4.33680869e-19, 3.25260652e-19,\n",
       "        6.23416249e-19, 8.49465516e-19, 1.11130723e-18, 1.73472348e-18,\n",
       "        2.60208521e-18, 3.46944695e-18, 6.93889390e-18, 5.55111512e-17,\n",
       "        2.22044605e-16, 4.44089210e-16, 8.88178420e-16, 0.00000000e+00],\n",
       "       [0.00000000e+00, 0.00000000e+00, 1.11022302e-16, 0.00000000e+00,\n",
       "        0.00000000e+00, 1.73472348e-18, 4.33680869e-19, 1.08420217e-19,\n",
       "        2.43945489e-19, 3.41245748e-19, 4.87890978e-19, 8.67361738e-19,\n",
       "        1.30104261e-18, 3.46944695e-18, 6.93889390e-18, 5.55111512e-17,\n",
       "        2.22044605e-16, 4.44089210e-16, 8.88178420e-16, 0.00000000e+00],\n",
       "       [0.00000000e+00, 0.00000000e+00, 1.11022302e-16, 0.00000000e+00,\n",
       "        0.00000000e+00, 1.73472348e-18, 4.33680869e-19, 0.00000000e+00,\n",
       "        8.13151629e-20, 1.44734104e-19, 2.16840434e-19, 4.33680869e-19,\n",
       "        1.30104261e-18, 3.46944695e-18, 6.93889390e-18, 5.55111512e-17,\n",
       "        2.22044605e-16, 4.44089210e-16, 8.88178420e-16, 0.00000000e+00],\n",
       "       [0.00000000e+00, 0.00000000e+00, 1.11022302e-16, 0.00000000e+00,\n",
       "        0.00000000e+00, 1.73472348e-18, 4.33680869e-19, 0.00000000e+00,\n",
       "        2.71050543e-20, 6.34189414e-20, 1.08420217e-19, 4.33680869e-19,\n",
       "        1.30104261e-18, 3.46944695e-18, 6.93889390e-18, 5.55111512e-17,\n",
       "        2.22044605e-16, 4.44089210e-16, 8.88178420e-16, 0.00000000e+00],\n",
       "       [0.00000000e+00, 0.00000000e+00, 1.11022302e-16, 0.00000000e+00,\n",
       "        0.00000000e+00, 1.73472348e-18, 4.33680869e-19, 0.00000000e+00,\n",
       "        2.71050543e-20, 3.63138871e-20, 8.13151629e-20, 4.33680869e-19,\n",
       "        1.30104261e-18, 3.46944695e-18, 6.93889390e-18, 5.55111512e-17,\n",
       "        2.22044605e-16, 4.44089210e-16, 8.88178420e-16, 0.00000000e+00],\n",
       "       [0.00000000e+00, 0.00000000e+00, 1.11022302e-16, 0.00000000e+00,\n",
       "        0.00000000e+00, 1.73472348e-18, 4.33680869e-19, 0.00000000e+00,\n",
       "        2.71050543e-20, 2.95376235e-20, 8.13151629e-20, 4.33680869e-19,\n",
       "        1.30104261e-18, 3.46944695e-18, 6.93889390e-18, 5.55111512e-17,\n",
       "        2.22044605e-16, 4.44089210e-16, 8.88178420e-16, 0.00000000e+00],\n",
       "       [0.00000000e+00, 0.00000000e+00, 1.11022302e-16, 0.00000000e+00,\n",
       "        0.00000000e+00, 1.73472348e-18, 4.33680869e-19, 0.00000000e+00,\n",
       "        2.71050543e-20, 2.95376235e-20, 8.13151629e-20, 4.33680869e-19,\n",
       "        1.30104261e-18, 3.46944695e-18, 6.93889390e-18, 5.55111512e-17,\n",
       "        2.22044605e-16, 4.44089210e-16, 8.88178420e-16, 0.00000000e+00],\n",
       "       [0.00000000e+00, 0.00000000e+00, 1.11022302e-16, 0.00000000e+00,\n",
       "        0.00000000e+00, 1.73472348e-18, 4.33680869e-19, 0.00000000e+00,\n",
       "        2.71050543e-20, 2.95376235e-20, 8.13151629e-20, 4.33680869e-19,\n",
       "        1.30104261e-18, 3.46944695e-18, 6.93889390e-18, 5.55111512e-17,\n",
       "        2.22044605e-16, 4.44089210e-16, 8.88178420e-16, 0.00000000e+00],\n",
       "       [0.00000000e+00, 0.00000000e+00, 1.11022302e-16, 0.00000000e+00,\n",
       "        0.00000000e+00, 1.73472348e-18, 4.33680869e-19, 0.00000000e+00,\n",
       "        2.71050543e-20, 2.95376235e-20, 8.13151629e-20, 4.33680869e-19,\n",
       "        1.30104261e-18, 3.46944695e-18, 6.93889390e-18, 5.55111512e-17,\n",
       "        2.22044605e-16, 4.44089210e-16, 8.88178420e-16, 0.00000000e+00],\n",
       "       [0.00000000e+00, 0.00000000e+00, 1.11022302e-16, 0.00000000e+00,\n",
       "        0.00000000e+00, 1.73472348e-18, 4.33680869e-19, 0.00000000e+00,\n",
       "        2.71050543e-20, 2.95376235e-20, 8.13151629e-20, 4.33680869e-19,\n",
       "        1.30104261e-18, 3.46944695e-18, 6.93889390e-18, 5.55111512e-17,\n",
       "        2.22044605e-16, 4.44089210e-16, 8.88178420e-16, 0.00000000e+00],\n",
       "       [0.00000000e+00, 0.00000000e+00, 1.11022302e-16, 0.00000000e+00,\n",
       "        0.00000000e+00, 1.73472348e-18, 4.33680869e-19, 0.00000000e+00,\n",
       "        2.71050543e-20, 2.95376235e-20, 8.13151629e-20, 4.33680869e-19,\n",
       "        1.30104261e-18, 3.46944695e-18, 6.93889390e-18, 5.55111512e-17,\n",
       "        2.22044605e-16, 4.44089210e-16, 8.88178420e-16, 0.00000000e+00],\n",
       "       [0.00000000e+00, 0.00000000e+00, 1.11022302e-16, 0.00000000e+00,\n",
       "        0.00000000e+00, 1.73472348e-18, 4.33680869e-19, 0.00000000e+00,\n",
       "        2.71050543e-20, 2.95376235e-20, 8.13151629e-20, 4.33680869e-19,\n",
       "        1.30104261e-18, 3.46944695e-18, 6.93889390e-18, 5.55111512e-17,\n",
       "        2.22044605e-16, 4.44089210e-16, 8.88178420e-16, 0.00000000e+00],\n",
       "       [0.00000000e+00, 0.00000000e+00, 1.11022302e-16, 0.00000000e+00,\n",
       "        0.00000000e+00, 1.73472348e-18, 4.33680869e-19, 0.00000000e+00,\n",
       "        2.71050543e-20, 2.95376235e-20, 8.13151629e-20, 4.33680869e-19,\n",
       "        1.30104261e-18, 3.46944695e-18, 6.93889390e-18, 5.55111512e-17,\n",
       "        2.22044605e-16, 4.44089210e-16, 8.88178420e-16, 0.00000000e+00]])"
      ]
     },
     "execution_count": 46,
     "metadata": {},
     "output_type": "execute_result"
    }
   ],
   "source": [
    "errors = np.abs(exact_sol-np.array(xs))\n",
    "errors"
   ]
  },
  {
   "cell_type": "code",
   "execution_count": 49,
   "metadata": {},
   "outputs": [
    {
     "data": {
      "image/png": "[encoded data removed]",
      "text/plain": [
       "<Figure size 640x480 with 1 Axes>"
      ]
     },
     "metadata": {},
     "output_type": "display_data"
    }
   ],
   "source": [
    "for j in range(20):\n",
    "    ys = []\n",
    "    for i in range(0,15,1):\n",
    "        ys.append(errors[i][j])\n",
    "    plt.plot(np.arange(0,15,1), ys)"
   ]
  },
  {
   "cell_type": "code",
   "execution_count": 8,
   "metadata": {},
   "outputs": [
    {
     "name": "stdout",
     "output_type": "stream",
     "text": [
      "0.012187300000000002\n",
      "0.0009584000000000001\n"
     ]
    }
   ],
   "source": [
    "start_gs = time.perf_counter_ns()\n",
    "GaussSeidel(A,b, 2000)\n",
    "end_gs = time.perf_counter_ns()\n",
    "\n",
    "time_gs = end_gs-start_gs\n",
    "\n",
    "start_sp= time.perf_counter_ns()\n",
    "sp.linalg.solve(A,b)\n",
    "end_sp = time.perf_counter_ns()\n",
    "\n",
    "time_sp = end_sp - start_sp\n",
    "\n",
    "print(time_gs*10**(-9))\n",
    "print(time_sp*10**(-9))"
   ]
  },
  {
   "cell_type": "code",
   "execution_count": 9,
   "metadata": {},
   "outputs": [
    {
     "name": "stdout",
     "output_type": "stream",
     "text": [
      "         107 function calls (104 primitive calls) in 0.012 seconds\n",
      "\n",
      "   Ordered by: standard name\n",
      "\n",
      "   ncalls  tottime  percall  cumtime  percall filename:lineno(function)\n",
      "        1    0.010    0.010    0.012    0.012 1834132545.py:1(GaussSeidel)\n",
      "        1    0.000    0.000    0.000    0.000 <__array_function__ internals>:177(diag)\n",
      "        1    0.000    0.000    0.000    0.000 <__array_function__ internals>:177(diagonal)\n",
      "        1    0.000    0.000    0.000    0.000 <__array_function__ internals>:177(fill_diagonal)\n",
      "        2    0.000    0.000    0.002    0.001 <__array_function__ internals>:177(inv)\n",
      "        1    0.000    0.000    0.000    0.000 <__array_function__ internals>:177(tril)\n",
      "        1    0.000    0.000    0.000    0.000 <__array_function__ internals>:177(triu)\n",
      "        2    0.000    0.000    0.000    0.000 <__array_function__ internals>:177(where)\n",
      "        1    0.000    0.000    0.012    0.012 <string>:1(<module>)\n",
      "        1    0.000    0.000    0.000    0.000 fromnumeric.py:1574(_diagonal_dispatcher)\n",
      "        1    0.000    0.000    0.000    0.000 fromnumeric.py:1578(diagonal)\n",
      "        4    0.000    0.000    0.000    0.000 getlimits.py:679(min)\n",
      "        4    0.000    0.000    0.000    0.000 getlimits.py:692(max)\n",
      "        1    0.000    0.000    0.000    0.000 index_tricks.py:782(_fill_diagonal_dispatcher)\n",
      "        1    0.000    0.000    0.000    0.000 index_tricks.py:786(fill_diagonal)\n",
      "        2    0.000    0.000    0.000    0.000 linalg.py:107(get_linalg_error_extobj)\n",
      "        2    0.000    0.000    0.000    0.000 linalg.py:112(_makearray)\n",
      "        4    0.000    0.000    0.000    0.000 linalg.py:117(isComplexType)\n",
      "        2    0.000    0.000    0.000    0.000 linalg.py:130(_realType)\n",
      "        2    0.000    0.000    0.000    0.000 linalg.py:136(_commonType)\n",
      "        2    0.000    0.000    0.000    0.000 linalg.py:180(_assert_stacked_2d)\n",
      "        2    0.000    0.000    0.000    0.000 linalg.py:186(_assert_stacked_square)\n",
      "        2    0.000    0.000    0.000    0.000 linalg.py:465(_unary_dispatcher)\n",
      "        2    0.001    0.001    0.001    0.001 linalg.py:469(inv)\n",
      "        2    0.000    0.000    0.000    0.000 multiarray.py:345(where)\n",
      "        1    0.000    0.000    0.000    0.000 twodim_base.py:236(_diag_dispatcher)\n",
      "        1    0.000    0.000    0.000    0.000 twodim_base.py:240(diag)\n",
      "        4    0.000    0.000    0.000    0.000 twodim_base.py:33(_min_int)\n",
      "        2    0.000    0.000    0.000    0.000 twodim_base.py:376(tri)\n",
      "        2    0.000    0.000    0.000    0.000 twodim_base.py:438(_trilu_dispatcher)\n",
      "        1    0.000    0.000    0.000    0.000 twodim_base.py:442(tril)\n",
      "        1    0.000    0.000    0.000    0.000 twodim_base.py:497(triu)\n",
      "        1    0.000    0.000    0.012    0.012 {built-in method builtins.exec}\n",
      "        2    0.000    0.000    0.000    0.000 {built-in method builtins.getattr}\n",
      "        1    0.000    0.000    0.000    0.000 {built-in method builtins.isinstance}\n",
      "        6    0.000    0.000    0.000    0.000 {built-in method builtins.issubclass}\n",
      "        5    0.000    0.000    0.000    0.000 {built-in method builtins.len}\n",
      "        4    0.000    0.000    0.000    0.000 {built-in method numpy.arange}\n",
      "        4    0.000    0.000    0.000    0.000 {built-in method numpy.asanyarray}\n",
      "        2    0.000    0.000    0.000    0.000 {built-in method numpy.asarray}\n",
      "      9/6    0.000    0.000    0.002    0.000 {built-in method numpy.core._multiarray_umath.implement_array_function}\n",
      "        4    0.000    0.000    0.000    0.000 {built-in method numpy.zeros}\n",
      "        2    0.000    0.000    0.000    0.000 {method '__array_prepare__' of 'numpy.ndarray' objects}\n",
      "        4    0.000    0.000    0.000    0.000 {method 'astype' of 'numpy.ndarray' objects}\n",
      "        1    0.000    0.000    0.000    0.000 {method 'diagonal' of 'numpy.ndarray' objects}\n",
      "        1    0.000    0.000    0.000    0.000 {method 'disable' of '_lsprof.Profiler' objects}\n",
      "        2    0.000    0.000    0.000    0.000 {method 'get' of 'dict' objects}\n",
      "        2    0.000    0.000    0.000    0.000 {method 'outer' of 'numpy.ufunc' objects}\n",
      "\n",
      "\n"
     ]
    }
   ],
   "source": [
    "cProfile.run('GaussSeidel(A,b, 2000)')"
   ]
  },
  {
   "cell_type": "code",
   "execution_count": 10,
   "metadata": {},
   "outputs": [
    {
     "name": "stdout",
     "output_type": "stream",
     "text": [
      "         50 function calls in 0.001 seconds\n",
      "\n",
      "   Ordered by: standard name\n",
      "\n",
      "   ncalls  tottime  percall  cumtime  percall filename:lineno(function)\n",
      "        1    0.000    0.000    0.000    0.000 <__array_function__ internals>:177(atleast_1d)\n",
      "        1    0.000    0.000    0.000    0.000 <__array_function__ internals>:177(atleast_2d)\n",
      "        1    0.000    0.000    0.001    0.001 <string>:1(<module>)\n",
      "        2    0.000    0.000    0.000    0.000 _base.py:1301(isspmatrix)\n",
      "        3    0.000    0.000    0.000    0.000 _basic.py:23(_solve_check)\n",
      "        1    0.001    0.001    0.001    0.001 _basic.py:40(solve)\n",
      "        2    0.000    0.000    0.000    0.000 _methods.py:61(_all)\n",
      "        2    0.000    0.000    0.000    0.000 _misc.py:181(_datacopied)\n",
      "        2    0.000    0.000    0.000    0.000 _util.py:206(_asarray_validated)\n",
      "        3    0.000    0.000    0.000    0.000 blas.py:384(getter)\n",
      "        2    0.000    0.000    0.000    0.000 core.py:6450(isMaskedArray)\n",
      "        2    0.000    0.000    0.000    0.000 function_base.py:562(asarray_chkfinite)\n",
      "        1    0.000    0.000    0.000    0.000 shape_base.py:19(_atleast_1d_dispatcher)\n",
      "        1    0.000    0.000    0.000    0.000 shape_base.py:23(atleast_1d)\n",
      "        1    0.000    0.000    0.000    0.000 shape_base.py:77(_atleast_2d_dispatcher)\n",
      "        1    0.000    0.000    0.000    0.000 shape_base.py:81(atleast_2d)\n",
      "        1    0.000    0.000    0.001    0.001 {built-in method builtins.exec}\n",
      "        4    0.000    0.000    0.000    0.000 {built-in method builtins.isinstance}\n",
      "        2    0.000    0.000    0.000    0.000 {built-in method builtins.len}\n",
      "        2    0.000    0.000    0.000    0.000 {built-in method numpy.asanyarray}\n",
      "        2    0.000    0.000    0.000    0.000 {built-in method numpy.asarray}\n",
      "        2    0.000    0.000    0.000    0.000 {built-in method numpy.core._multiarray_umath.implement_array_function}\n",
      "        2    0.000    0.000    0.000    0.000 {method 'all' of 'numpy.ndarray' objects}\n",
      "        2    0.000    0.000    0.000    0.000 {method 'append' of 'list' objects}\n",
      "        1    0.000    0.000    0.000    0.000 {method 'disable' of '_lsprof.Profiler' objects}\n",
      "        3    0.000    0.000    0.000    0.000 {method 'get' of 'dict' objects}\n",
      "        1    0.000    0.000    0.000    0.000 {method 'ravel' of 'numpy.ndarray' objects}\n",
      "        2    0.000    0.000    0.000    0.000 {method 'reduce' of 'numpy.ufunc' objects}\n",
      "\n",
      "\n"
     ]
    }
   ],
   "source": [
    "cProfile.run('sp.linalg.solve(A,b)')"
   ]
  },
  {
   "cell_type": "markdown",
   "metadata": {},
   "source": [
    "### Zadanie 4"
   ]
  },
  {
   "cell_type": "code",
   "execution_count": 47,
   "metadata": {},
   "outputs": [
    {
     "data": {
      "text/plain": [
       "83"
      ]
     },
     "execution_count": 47,
     "metadata": {},
     "output_type": "execute_result"
    },
    {
     "data": {
      "image/png": "[encoded data removed]",
      "text/plain": [
       "<Figure size 640x480 with 1 Axes>"
      ]
     },
     "metadata": {},
     "output_type": "display_data"
    }
   ],
   "source": [
    "diag = np.arange(0.025,0.51,0.025)\n",
    "ud = 5*np.ones(19)\n",
    "A = np.zeros((20,20), float)\n",
    "A = A + np.diag(diag) + np.diag(ud, k=1)\n",
    "norms = np.zeros(100)\n",
    "x = np.ones(20).T\n",
    "norm_x = np.linalg.norm(x)\n",
    "for i in range(0, 100, 1):\n",
    "    x = A@x\n",
    "    norms[i] = (np.linalg.norm(x)/norm_x)\n",
    "plt.scatter(np.linspace(1,100,100), norms)\n",
    "plt.scatter(26, norms[25], color='red', label = r'$\\eta_{25}$')\n",
    "plt.legend()\n",
    "\n",
    "np.where(norms<norm_x)[0][0]\n",
    "\n",
    "\n"
   ]
  }
 ],
 "metadata": {
  "kernelspec": {
   "display_name": "Python 3",
   "language": "python",
   "name": "python3"
  },
  "language_info": {
   "codemirror_mode": {
    "name": "ipython",
    "version": 3
   },
   "file_extension": ".py",
   "mimetype": "text/x-python",
   "name": "python",
   "nbconvert_exporter": "python",
   "pygments_lexer": "ipython3",
   "version": "3.11.2"
  }
 },
 "nbformat": 4,
 "nbformat_minor": 2
}
