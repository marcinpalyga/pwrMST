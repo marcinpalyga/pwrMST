{
 "cells": [
  {
   "cell_type": "markdown",
   "metadata": {},
   "source": [
    "# Lista 3"
   ]
  },
  {
   "cell_type": "markdown",
   "metadata": {},
   "source": [
    "### Zaimplementowane biblioteki"
   ]
  },
  {
   "cell_type": "code",
   "execution_count": 1,
   "metadata": {},
   "outputs": [],
   "source": [
    "import os\n",
    "from zipfile import ZipFile\n",
    "import datetime\n",
    "import time\n",
    "from PyPDF2 import PdfFileMerger\n",
    "import cv2 as cv\n",
    "from PIL import Image\n",
    "import qrcode\n",
    "import webbrowser\n",
    "from bs4 import BeautifulSoup\n",
    "import requests"
   ]
  },
  {
   "cell_type": "markdown",
   "metadata": {},
   "source": [
    "### Zadanie 1"
   ]
  },
  {
   "cell_type": "code",
   "execution_count": null,
   "metadata": {},
   "outputs": [],
   "source": [
    "def zip(sciezka, rozszerzenie):\n",
    "    str_sciezka = str(sciezka)           \n",
    "    data = str(datetime.date.today())   #zapisujemy dzisiejsza date\n",
    "    os.mkdir('c:\\\\copy-' + data)   #tworzymy folder z podana nazwa\n",
    "    lista = []\n",
    "    nazwa = data + '_' + os.path.basename(sciezka) + '.zip'  #tworzymy nazwe zipu  \n",
    "    for root, sciezka, pliki in os.walk(sciezka):        #petla w ktorej zapisujemy kazdy plik z podanym rozszerzeniem i czasem od ostatniej modyfikacji krotszym niz 3 dni do listy\n",
    "        for plik in pliki:\n",
    "            nazwa_pliku, rozszerzenie_pliku = os.path.splitext(plik) #zmienna zapisujaca rozszerzenie kazdego pliku z podanej sciezki\n",
    "            os.chdir(str_sciezka)\n",
    "            czas_zmiany = os.path.getmtime(plik)   #zmienne zapisujace czas modyfikacji  i czas lokalny\n",
    "            czas_teraz = time.mktime(time.localtime())\n",
    "            roznica = round(czas_teraz - czas_zmiany) \n",
    "            if rozszerzenie_pliku == rozszerzenie and roznica < 259200: #warunek ograniczajacy zapisywanie plikow w zipie\n",
    "                sciezka_pliku = os.path.join(root, plik)\n",
    "                lista.append(sciezka_pliku)\n",
    "    os.chdir('c:\\\\copy-' + data) #zmiana sciezki aby zip zrobil sie w odpowiednim folderze\n",
    "    with ZipFile(nazwa, 'w') as zip:  #zapisujemy zip\n",
    "        for element in lista:\n",
    "            zip.write(element)\n",
    "zip('sciezka', 'rozszerzenie')"
   ]
  },
  {
   "cell_type": "markdown",
   "metadata": {},
   "source": [
    "### Zadanie 2"
   ]
  },
  {
   "cell_type": "code",
   "execution_count": null,
   "metadata": {},
   "outputs": [],
   "source": [
    "def win_to_unix(sciezka):\n",
    "    koniec_win = b'\\r\\n'  #zapisujemy koncowki linii windowsa i unixa w systemie bitowym\n",
    "    koniec_unix = b'\\n'\n",
    "    with open(sciezka, 'rb') as plik: #otwieramy podany plik\n",
    "        tekst = plik.read()\n",
    "\n",
    "    zmiana = tekst.replace(koniec_win, koniec_unix) #zamieniamy koncowki linii w pliku i go zapisujemy\n",
    "    with open(sciezka, 'wb') as plik:\n",
    "        plik.write(zmiana)\n",
    "\n",
    "win_to_unix( \"sciezka\" )\n",
    "\n",
    "def unix_to_win(sciezka):  #druga funkcja dziala analogicznie do pierwszej\n",
    "    koniec_win = b'\\r\\n'\n",
    "    koniec_unix = b'\\n'\n",
    "    with open(sciezka, 'rb') as plik:\n",
    "        tekst = plik.read()\n",
    "\n",
    "    zmiana = tekst.replace(koniec_unix, koniec_win)\n",
    "    with open(sciezka, 'wb') as plik:\n",
    "        plik.write(zmiana)\n",
    "\n",
    "unix_to_win( \"sciezka\" )"
   ]
  },
  {
   "cell_type": "markdown",
   "metadata": {},
   "source": [
    "### Zadanie 3"
   ]
  },
  {
   "cell_type": "code",
   "execution_count": null,
   "metadata": {},
   "outputs": [],
   "source": [
    "def pdf(pliki: list, zapis):\n",
    "    \n",
    "    for plik in pliki:\n",
    "        PdfFileMerger().append(plik) #w pętli dodajemy do siebie kazdy podany plik i zapisujemy w jednym\n",
    "    PdfFileMerger().write(zapis)\n",
    "    PdfFileMerger().close()\n",
    "\n",
    "pdf(['sciezka1.pdf', 'sciezka2.pdf'], \"zapis.pdf\")"
   ]
  },
  {
   "cell_type": "markdown",
   "metadata": {},
   "source": [
    "### Zadanie 4"
   ]
  },
  {
   "cell_type": "code",
   "execution_count": null,
   "metadata": {},
   "outputs": [],
   "source": [
    "def generator(strona):\n",
    "    qr = qrcode.QRCode()\n",
    "    qr.add_data(strona)    #tworzymy kod qr z podanej strony\n",
    "    qr.make(fit = True)\n",
    "    kod = qr.make_image()\n",
    "    kod.save(\"qrcode.jpg\")  #zapisujemy kod na dysku\n",
    "    obraz = Image.open('sciezka do kodu qr') #pokazujemy wytworzony kod qr\n",
    "    obraz.show()\n",
    "\n",
    "generator('strona')\n",
    "\n",
    "def czytnik(image):\n",
    "    qr = cv.imread(image)   #odczytujemy kod qr\n",
    "    czytnik_qr = cv.QRCodeDetector()    \n",
    "    strona, tablica, kod = czytnik_qr.detectAndDecode(qr)   #z funkcji zwracajacej trzy zmienne zapisujemy link strony i go wyswietlamy\n",
    "    print(\"Zakodowana strona to: \" + strona)\n",
    "\n",
    "czytnik('sciezka do kodu qr')"
   ]
  },
  {
   "cell_type": "markdown",
   "metadata": {},
   "source": [
    "### Zadanie 5"
   ]
  },
  {
   "cell_type": "code",
   "execution_count": null,
   "metadata": {},
   "outputs": [],
   "source": [
    "def nawiasy():\n",
    "    otwierajace = ['[', '{', '(', '<']  #tworzymy listy mozliwych nawiasow otwierajacych i zamykajacych\n",
    "    zamykajace = [']', '}', ')', '>']\n",
    "    lista = []\n",
    "    wyrazenie = input(\"Podaj wyrazenie: \")    #podajemy nasze wyrazenie jako input z klawiatury uzytkownika\n",
    "    for element in wyrazenie:\n",
    "        if element in otwierajace:    #w petli dla kazdego elementu wyrazenia zapisujemy je w zaleznosci od tego czy jest to nawias otwierajacy czy zamykajacy\n",
    "            lista.append(element)       #jesli jest to nawias otwierajacy to dodajemy go do listy\n",
    "        elif element in zamykajace:\n",
    "            if len(lista) > 0 and otwierajace[zamykajace.index(element)] == lista[-1]:\n",
    "                lista.pop()  #jesli jest to nawias zamykajacy sprawdzamy czy w liscie znajduja sie inne wyrazenia i porownujemy nasz nawias z ostatnim elementem z listy\n",
    "            else:\n",
    "                return 'Wyrazenie nie jest poprawne' #jesli nawias otwierajacy i zamykajacy ktore znajduja sie obok siebie nie sa takie same to wyrazenie nie jest poprawne\n",
    "    if len(lista) == 0: #jesli udalo nam sie wyrzucic kazdy nawias otwierajacy i nie ma wiecej elementow w wyrazeniu to jest ono poprawne\n",
    "        return 'Wyrazenie jest poprawne'\n",
    "    else:\n",
    "        return 'Wyrazenie nie jest poprawne' #jesli zostal jakis nawias otwierajacy to wyrazenie nie jest poprawne\n",
    "\n",
    "nawiasy()"
   ]
  },
  {
   "cell_type": "markdown",
   "metadata": {},
   "source": [
    "### Zadanie 6"
   ]
  },
  {
   "cell_type": "code",
   "execution_count": 2,
   "metadata": {},
   "outputs": [
    {
     "name": "stdout",
     "output_type": "stream",
     "text": [
      "[<title>Paola Igliori - Wikipedia</title>]\n"
     ]
    }
   ],
   "source": [
    "def wikipedia():\n",
    "    strona = requests.get('https://en.wikipedia.org/wiki/Special:Random') #losujemy strone\n",
    "    zawartosc = strona.content #zapisujemy jej zawartosc w zmiennej\n",
    "    link = strona.url #zapisujemy url wylosowanej strony\n",
    "    soup = BeautifulSoup(zawartosc, 'html.parser') \n",
    "    tytul = str(soup.find_all('title')) #z zawartosci wyszukujemy tytulu strony\n",
    "    print(tytul)\n",
    "    odp = input(\"Czy lubisz tytul strony? \").upper() #sprawdzamy czy tytul podoba sie uzytkownikowi\n",
    "    if odp == 'Y':  #jesli tytul sie podoba wyswietlamy strone\n",
    "        webbrowser.open(link)\n",
    "    else: #jesli tytul sie nie podoba funkcja wywoluje sie po raz kolejny\n",
    "        wikipedia()\n",
    "wikipedia()"
   ]
  }
 ],
 "metadata": {
  "kernelspec": {
   "display_name": "Python 3",
   "language": "python",
   "name": "python3"
  },
  "language_info": {
   "codemirror_mode": {
    "name": "ipython",
    "version": 3
   },
   "file_extension": ".py",
   "mimetype": "text/x-python",
   "name": "python",
   "nbconvert_exporter": "python",
   "pygments_lexer": "ipython3",
   "version": "3.11.2"
  }
 },
 "nbformat": 4,
 "nbformat_minor": 2
}
