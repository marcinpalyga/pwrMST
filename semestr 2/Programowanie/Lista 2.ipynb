{
 "cells": [
  {
   "cell_type": "markdown",
   "metadata": {},
   "source": [
    "# Lista 2"
   ]
  },
  {
   "cell_type": "markdown",
   "metadata": {},
   "source": [
    "### Zaimportowane biblioteki"
   ]
  },
  {
   "cell_type": "code",
   "execution_count": 8,
   "metadata": {},
   "outputs": [],
   "source": [
    "import string\n",
    "import random\n",
    "from PIL import Image\n",
    "import os\n",
    "from zipfile import ZipFile\n",
    "import datetime\n",
    "from PyPDF2 import PdfFileWriter, PdfFileReader"
   ]
  },
  {
   "cell_type": "markdown",
   "metadata": {},
   "source": [
    "### Zadanie 1"
   ]
  },
  {
   "cell_type": "code",
   "execution_count": 2,
   "metadata": {},
   "outputs": [
    {
     "name": "stdout",
     "output_type": "stream",
     "text": [
      "'&4IVH80\n"
     ]
    }
   ],
   "source": [
    "def haslo():\n",
    "        litery = ''.join((random.choice(string.ascii_letters)) for i in range(3)) #wybieramy losowe znaki do naszego hasła\n",
    "        cyfry = ''.join((random.choice(string.digits)) for i in range(3))\n",
    "        znaki = ''.join((random.choice(string.punctuation)) for i in range(2))\n",
    "        haslo = litery + cyfry + znaki\n",
    "        lista = list(haslo)\n",
    "        random.shuffle(lista) #zmieniamy losowo kolejność znaków w haśle\n",
    "        randomhaslo = ''.join(lista)\n",
    "        return randomhaslo\n",
    "\n",
    "print(haslo())"
   ]
  },
  {
   "cell_type": "markdown",
   "metadata": {},
   "source": [
    "### Zadanie 2"
   ]
  },
  {
   "cell_type": "code",
   "execution_count": null,
   "metadata": {},
   "outputs": [],
   "source": [
    "def miniatura(sciezka, nazwa_miniatury, rozmiar):\n",
    "\n",
    "    original_rozmiar = list(Image.open(sciezka).size)\n",
    "    if rozmiar[0] < original_rozmiar[0] and rozmiar[1] < original_rozmiar[1]: #sprawdzamy czy rozmiar obrazka jest większy od rozmiaru miniatury\n",
    "        thumbnail = Image.open(sciezka).resize(tuple(rozmiar))  #zmieniamy rozmiar obrazka na podany dla miniatury\n",
    "        thumbnail.save(nazwa_miniatury, \"JPEG\")\n",
    "        Image.open(sciezka).show()\n",
    "        Image.open(nazwa_miniatury).show()\n",
    "    else:\n",
    "        print(\"Rozmiar miniatury jest większy niż oryginału\")\n",
    "\n",
    "\n",
    "miniatura('sciezka', 'nazwa_miniatury', [100, 100])"
   ]
  },
  {
   "cell_type": "markdown",
   "metadata": {},
   "source": [
    "### Zadanie 3"
   ]
  },
  {
   "cell_type": "code",
   "execution_count": null,
   "metadata": {},
   "outputs": [],
   "source": [
    "print(datetime.date.today())\n",
    "def zip(sciezka):               \n",
    "    lista_sciezek = []\n",
    "    data = str(datetime.date.today())\n",
    "    nazwa_zip = data + '_' + os.path.basename(sciezka) + '.zip'\n",
    "    for zrodlo, sciezka, pliki in os.walk(sciezka):   #pętla zapisująca w liście każdy podfolder i plik należący do podanego folderu\n",
    "        for nazwa_pliku in pliki:\n",
    "            sciezka_pliku = os.path.join(zrodlo, nazwa_pliku)\n",
    "            lista_sciezek.append(sciezka_pliku)\n",
    "    with ZipFile(nazwa_zip, 'w') as zip: #zapisujemy nasz zip z podaną nazwą zawierającą datę zapisania\n",
    "        for element in lista_sciezek:\n",
    "            zip.write(element)\n",
    "    \n",
    "zip('sciezka')"
   ]
  },
  {
   "cell_type": "markdown",
   "metadata": {},
   "source": [
    "### Zadanie 4"
   ]
  },
  {
   "cell_type": "code",
   "execution_count": null,
   "metadata": {},
   "outputs": [],
   "source": [
    "def pdf(sciezka, numer_strony):\n",
    "    pdf_czytnik = PdfFileReader(open(sciezka, \"rb\"), strict=False)\n",
    "    pdf.zapis = PdfFileWriter()        \n",
    "    strona_początkowa = 0\n",
    "    ilosc_stron = pdf_czytnik.numPages\n",
    "    if max(numer_strony) <= ilosc_stron:                   #warunek sprawdzający czy podane strony na których plik ma zostać rodzielony istnieją\n",
    "        numer_strony.append(ilosc_stron)\n",
    "        for i in range(len(numer_strony)):                   #podwójną pętlą rozdzielamy plik pdf na kilka plików zapisując je z nazwą zawierająca strony\n",
    "            for k in range(strona_początkowa, numer_strony[i]):\n",
    "                pdf.zapis.addPage(pdf_czytnik.getPage(k))\n",
    "                nazwa = str(strona_początkowa) + '-' + str(numer_strony[i])\n",
    "            with open(\"pages(%s).pdf\" % nazwa, 'wb') as plik:\n",
    "                pdf.zapis.write(plik)\n",
    "                strona_początkowa = numer_strony[i]\n",
    "    else:\n",
    "        print(\"Podana strona nie istnieje\")\n",
    "\n",
    "\n",
    "pdf('sciezka', [1,3,5])"
   ]
  },
  {
   "cell_type": "markdown",
   "metadata": {},
   "source": [
    "### Zadanie 5"
   ]
  },
  {
   "cell_type": "code",
   "execution_count": null,
   "metadata": {},
   "outputs": [],
   "source": [
    "def znakwodny(oryginal_nazwa, znak_wodny_nazwa, nowy, rozmiar):\n",
    "\n",
    "    oryginal = Image.open(oryginal_nazwa)        #otwieramy obrazek i znak wodny\n",
    "    znak_wodny = Image.open(znak_wodny_nazwa)\n",
    "    znak_wodny_rozmiar = znak_wodny.resize(rozmiar)        #nadajemy obu obrazom ten sam wymiar\n",
    "    oryginal_rozmiar = oryginal.resize(rozmiar)\n",
    "    blend = Image.blend(oryginal_rozmiar, znak_wodny_rozmiar, 0.45)  #łączymy oba obrazy gdzie ostatni parametr funkcji to stała, od której zależy przezroczytość znaku wodnego\n",
    "    blend.save(nowy, \"JPEG\")   \n",
    "    Image.open(oryginal_nazwa).show()\n",
    "    Image.open(nowy).show()\n",
    "\n",
    "\n",
    "znakwodny(\"oryginal_nazwa\",\"znak_wodny_nazwa\",\"nowy\",(500, 500))"
   ]
  },
  {
   "cell_type": "markdown",
   "metadata": {},
   "source": [
    "### Zadanie 6"
   ]
  },
  {
   "cell_type": "code",
   "execution_count": 14,
   "metadata": {},
   "outputs": [
    {
     "name": "stdout",
     "output_type": "stream",
     "text": [
      "                   2\n",
      "*                  4\n",
      "--------------------\n",
      "                   8\n"
     ]
    }
   ],
   "source": [
    "def lista(rownanie):\n",
    "    wynik = []\n",
    "    liczba = '' \n",
    "    for znak in rownanie: #pętlą zapisujemy w liście każdy znak operacji pomijając spacje \n",
    "        if znak == '+' or znak == '-' or znak == '*':\n",
    "            wynik.append(liczba)\n",
    "            wynik.append(znak)\n",
    "            liczba = ''\n",
    "        elif znak == ' ':\n",
    "            continue\n",
    "        else:\n",
    "            liczba += znak\n",
    "    wynik.append(liczba)\n",
    "    return wynik\n",
    "\n",
    "def slupek(rownanie):\n",
    "\n",
    "    znaki = lista(rownanie) \n",
    "    print('{:>20}'.format(znaki[0])) #formatujemy tekst za pomocą wcześniej utworzonej listy aby wynik przedstawiony był w słupku\n",
    "    print('{}{:>19}'.format(znaki[1], znaki[2]))\n",
    "    print('-'*20)\n",
    "    print('{:>20}'.format(round(eval(rownanie), 4)))\n",
    "\n",
    "slupek('2*4')"
   ]
  }
 ],
 "metadata": {
  "kernelspec": {
   "display_name": "Python 3",
   "language": "python",
   "name": "python3"
  },
  "language_info": {
   "codemirror_mode": {
    "name": "ipython",
    "version": 3
   },
   "file_extension": ".py",
   "mimetype": "text/x-python",
   "name": "python",
   "nbconvert_exporter": "python",
   "pygments_lexer": "ipython3",
   "version": "3.11.2"
  }
 },
 "nbformat": 4,
 "nbformat_minor": 2
}
