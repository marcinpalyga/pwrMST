{
 "cells": [
  {
   "cell_type": "markdown",
   "metadata": {},
   "source": [
    "# Lista 4"
   ]
  },
  {
   "cell_type": "markdown",
   "metadata": {},
   "source": [
    "### Zaimplementowane biblioteki"
   ]
  },
  {
   "cell_type": "code",
   "execution_count": 3,
   "metadata": {},
   "outputs": [],
   "source": [
    "from scipy.integrate import odeint\n",
    "import numpy as np \n",
    "import matplotlib.pyplot as plt\n",
    "import sys\n",
    "import argparse"
   ]
  },
  {
   "cell_type": "markdown",
   "metadata": {},
   "source": [
    "### Zadanie 1"
   ]
  },
  {
   "cell_type": "code",
   "execution_count": null,
   "metadata": {},
   "outputs": [],
   "source": [
    "def seir(N, S0, E0, I0, R0, beta, sigma, gamma): \n",
    "    def func(y, t, beta, sigma, gamma):\n",
    "        S, E, I, R = y\n",
    "        N = S + E + I + R \n",
    "        dSdt = -(float(beta)*S*I)/N\n",
    "        dEdt = (float(beta)*S*I)/N - float(sigma)*E\n",
    "        dIdt = float(sigma)*E - float(gamma)*I\n",
    "        dRdt = float(gamma)*I\n",
    "        dy = [dSdt, dEdt, dIdt, dRdt]\n",
    "        return dy\n",
    "\n",
    "    beta0 = float(beta)  \n",
    "    sigma0 = float(sigma)\n",
    "    gamma0 = float(gamma)\n",
    "\n",
    "    for i in range(3): \n",
    "        y0 = [S0, E0, I0, R0] \n",
    "        t = np.linspace(0, 100, 200) \n",
    "        seir = odeint(func, y0, t, args=(beta0, sigma0, gamma0)) \n",
    "        plt.plot(t, seir)\n",
    "        plt.xlabel('Czas')\n",
    "        plt.ylabel('Liczebność grupy')\n",
    "        plt.show() \n",
    "        plt.clf()\n",
    "        beta0 += 1 \n",
    "    beta0 = float(beta)\n",
    "    \n",
    "    for i in range(3): \n",
    "        y0 = [S0, E0, I0, R0] \n",
    "        t = np.linspace(0, 100, 200) \n",
    "        seir = odeint(func, y0, t, args=(beta0, sigma0, gamma0)) \n",
    "        plt.plot(t, seir)\n",
    "        plt.xlabel('Czas')\n",
    "        plt.ylabel('Liczebność grupy')\n",
    "        plt.show() \n",
    "        plt.clf()\n",
    "        sigma0 += 0.3 \n",
    "    sigma0 = float(sigma) \n",
    "\n",
    "    for i in range(3): \n",
    "        y0 = [S0, E0, I0, R0] \n",
    "        t = np.linspace(0, 100, 200) \n",
    "        seir = odeint(func, y0, t, args=(beta0, sigma0, gamma0)) \n",
    "        plt.plot(t, seir)\n",
    "        plt.xlabel('Czas')\n",
    "        plt.ylabel('Liczebność grupy')\n",
    "        plt.show()\n",
    "        plt.clf()\n",
    "        gamma0 += 0.3 \n",
    "    gamma0 = float(gamma) \n",
    "\n",
    "\n",
    "if __name__ == '__main__':\n",
    "    seir(*sys.argv[1:]) \n"
   ]
  },
  {
   "cell_type": "markdown",
   "metadata": {},
   "source": [
    "### Zadanie 2"
   ]
  },
  {
   "cell_type": "code",
   "execution_count": null,
   "metadata": {},
   "outputs": [],
   "source": [
    "def init_argparse():                      \n",
    "    parser = argparse.ArgumentParser()\n",
    "    parser.add_argument('-N', type=int, default=1000)  \n",
    "    parser.add_argument('-S0', type=int, default=999)\n",
    "    parser.add_argument('-E0', type=int, default=1)  \n",
    "    parser.add_argument('-I0', type=int, default=0)\n",
    "    parser.add_argument('-R0', type=int, default=0)\n",
    "    parser.add_argument('-beta', type=float, default=1.34)\n",
    "    parser.add_argument('-sigma', type=float, default=0.19)\n",
    "    parser.add_argument('-gamma', type=float, default=0.34)\n",
    "    return parser\n",
    "\n",
    "def seir(N, S0, E0, I0, R0, beta, sigma, gamma): \n",
    "    def func(y, t, beta, sigma, gamma):\n",
    "        S, E, I, R = y\n",
    "        N = S + E + I + R \n",
    "        dSdt = -(float(beta)*S*I)/N\n",
    "        dEdt = (float(beta)*S*I)/N - float(sigma)*E\n",
    "        dIdt = float(sigma)*E - float(gamma)*I\n",
    "        dRdt = float(gamma)*I\n",
    "        dy = [dSdt, dEdt, dIdt, dRdt]\n",
    "        return dy\n",
    "    y0 = [S0, E0, I0, R0]\n",
    "    t = np.linspace(0, 100, 200)\n",
    "    seir = odeint(func, y0, t, args=(float(beta), float(sigma), float(gamma)))\n",
    "    plt.plot(t, seir)\n",
    "    plt.xlabel('Czas')\n",
    "    plt.ylabel('Liczebność grupy')\n",
    "    plt.show()\n",
    "    plt.clf()\n",
    "\n",
    "if __name__ == '__main__':\n",
    "    args = init_argparse().parse_args()\n",
    "    seir(**vars(args)) "
   ]
  },
  {
   "cell_type": "markdown",
   "metadata": {},
   "source": [
    "### Zadanie 4"
   ]
  },
  {
   "cell_type": "code",
   "execution_count": null,
   "metadata": {},
   "outputs": [],
   "source": [
    "import os\n",
    "import matplotlib.pyplot as plt\n",
    "import imageio\n",
    "import networkx as nx\n",
    "import random\n",
    "G = nx.fast_gnp_random_graph(20, 0.5)\n",
    "nx.draw(G, with_labels = True)\n",
    "plt.show()\n",
    "\n",
    "position = nx.spring_layout(G, seed=100)    \n",
    "neigh_list = [1]   \n",
    "filenames = []\n",
    "for i in range(20):\n",
    "    color_map = ['#000000'] * 20    \n",
    "    color_map[random.choice(neigh_list)] = '#ff0000'    \n",
    "    nx.draw(G, pos=position, node_color=color_map)\n",
    "\n",
    "    neigh_list = []\n",
    "    for f in G.neighbors(color_map.index('#ff0000')):\n",
    "        neigh_list.append(int(f))\n",
    "\n",
    "    filename = f'{i}.png'     \n",
    "    filenames.append(filename)\n",
    "    plt.savefig(filename)\n",
    "    plt.close()\n",
    "\n",
    "with imageio.get_writer('Walk.gif', mode='I', fps=2) as writer:\n",
    "    for filename in filenames:\n",
    "        image = imageio.imread(filename)\n",
    "        writer.append_data(image)\n",
    "\n",
    "for filename in filenames:\n",
    "    os.remove(filename)\n"
   ]
  }
 ],
 "metadata": {
  "kernelspec": {
   "display_name": "Python 3",
   "language": "python",
   "name": "python3"
  },
  "language_info": {
   "codemirror_mode": {
    "name": "ipython",
    "version": 3
   },
   "file_extension": ".py",
   "mimetype": "text/x-python",
   "name": "python",
   "nbconvert_exporter": "python",
   "pygments_lexer": "ipython3",
   "version": "3.11.2"
  }
 },
 "nbformat": 4,
 "nbformat_minor": 2
}
