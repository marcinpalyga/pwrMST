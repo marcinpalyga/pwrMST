{
 "cells": [
  {
   "cell_type": "markdown",
   "metadata": {},
   "source": [
    "# Lista 6"
   ]
  },
  {
   "cell_type": "markdown",
   "metadata": {},
   "source": [
    "### Zaimplementowane biblioteki"
   ]
  },
  {
   "cell_type": "code",
   "execution_count": 11,
   "metadata": {},
   "outputs": [],
   "source": [
    "import random\n",
    "import matplotlib.pyplot as plt\n",
    "from matplotlib.animation import FuncAnimation\n",
    "from matplotlib.patches import Rectangle\n",
    "from collections import deque"
   ]
  },
  {
   "cell_type": "markdown",
   "metadata": {},
   "source": [
    "### Bubblesort"
   ]
  },
  {
   "cell_type": "code",
   "execution_count": null,
   "metadata": {},
   "outputs": [],
   "source": [
    "def bubblesort(S):\n",
    "    n = len(S)\n",
    "    stages_S = [S.copy()]\n",
    "\n",
    "    for i in range(n-1):\n",
    "        for j in range(0, n-i-1):\n",
    "            if S[j] > S[j+1]:\n",
    "                S[j], S[j+1] = S[j+1], S[j]\n",
    "                stages_S.append(S.copy())\n",
    "\n",
    "    return S, stages_S\n",
    "\n",
    "S = [random.randint(-50, 50) for i in range(30)]\n",
    "S, stages_S = bubblesort(S)\n",
    "\n",
    "fig, ax = plt.subplots(facecolor='black')\n",
    "\n",
    "def animate(i):\n",
    "    ax.clear()\n",
    "    plt.xlim(0, len(stages_S[i]))\n",
    "    plt.ylim(min(stages_S[i]), max(stages_S[i])) \n",
    "    \n",
    "    for (n,el) in enumerate(stages_S[i]):\n",
    "        ax.add_patch(Rectangle((n+1e-1, 0-1e-1), 1-1e-1, el, color='w'))\n",
    "\n",
    "ani = FuncAnimation(fig, animate, frames=len(stages_S), interval=50, repeat=False)\n",
    "ax.set_facecolor(\"black\")\n",
    "ax.get_xaxis().set_visible(False)\n",
    "ax.get_yaxis().set_visible(False)\n",
    "ani.save('Bubblesort.gif', writer='imagemagick', fps=30)"
   ]
  },
  {
   "cell_type": "markdown",
   "metadata": {},
   "source": [
    "![SegmentLocal](Bubblesort.gif \"segment\")"
   ]
  },
  {
   "cell_type": "markdown",
   "metadata": {},
   "source": [
    "### Quicksort"
   ]
  },
  {
   "cell_type": "code",
   "execution_count": 12,
   "metadata": {},
   "outputs": [
    {
     "name": "stdout",
     "output_type": "stream",
     "text": [
      "Input list: [27, 1, -16, 8, 16, -21, 4, -13, -3, -7, -23, -18, -27, 26, 4, 26, -25, -1, 26, -28]\n",
      "Sorted list: [-28, -27, -25, -23, -21, -18, -16, -13, -7, -3, -1, 1, 4, 4, 8, 16, 26, 26, 26, 27]\n"
     ]
    }
   ],
   "source": [
    "def swap (A, i, j):\n",
    "    temp = A[i]\n",
    "    A[i] = A[j]\n",
    "    A[j] = temp\n",
    " \n",
    "def partition(a, start, end):\n",
    "    pivot = a[end]\n",
    "    pIndex = start\n",
    "    for i in range(start, end):\n",
    "        if a[i] <= pivot:\n",
    "            swap(a, i, pIndex)\n",
    "            pIndex += 1\n",
    "    swap(a, pIndex, end)\n",
    "    return pIndex\n",
    "\n",
    "def iterativeQuicksort(a):\n",
    "    stack = deque()\n",
    "    start = 0\n",
    "    end = len(a) - 1\n",
    "    stack.append((start, end))\n",
    "    while stack:\n",
    "        start, end = stack.pop()\n",
    "        pivot = partition(a, start, end)\n",
    "        if pivot - 1 > start:\n",
    "            stack.append((start, pivot - 1))\n",
    "        if pivot + 1 < end:\n",
    "            stack.append((pivot + 1, end))\n",
    "\n",
    "a = [random.randint(-30,30) for i in range(20)]\n",
    "print(f\"Input list: {a}\")\n",
    "iterativeQuicksort(a)\n",
    "print(f\"Sorted list: {a}\")"
   ]
  }
 ],
 "metadata": {
  "kernelspec": {
   "display_name": "Python 3",
   "language": "python",
   "name": "python3"
  },
  "language_info": {
   "codemirror_mode": {
    "name": "ipython",
    "version": 3
   },
   "file_extension": ".py",
   "mimetype": "text/x-python",
   "name": "python",
   "nbconvert_exporter": "python",
   "pygments_lexer": "ipython3",
   "version": "3.11.2"
  }
 },
 "nbformat": 4,
 "nbformat_minor": 2
}
